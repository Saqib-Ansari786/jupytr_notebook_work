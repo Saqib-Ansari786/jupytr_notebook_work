{
    "cells": [
        {
            "cell_type": "markdown",
            "metadata": {
                "deletable": false,
                "editable": false,
                "nbgrader": {
                    "grade": false,
                    "locked": true,
                    "solution": false
                }
            },
            "source": [
                "## Module 3A: Assignment\n",
                "\n",
                "### Weightage: 30 Marks\n",
                "\n",
                "### Assessment task: \n",
                "\n",
                "You work for an AI image company and one of the departments focuses on research into the accurate and timely diagnosis of heart disease, fertility and breast cancer among residents living in Compassvale City. Their research also looks into the risk factors prevalent in this community as whole. Through a state-funded programme, they collect a huge among of anonymous and de-identified data on its residents. However, they face the challenge of making sense of this data. As an upcoming expert in Machine Learning, your assignment is to help the department to make sense of the data and deliver the following solutions.\n",
                "\n",
                "#### Parts\n",
                "\n",
                "1. Programming Part 1: Read the file containing the big heart dataset and display the output of these files\n",
                "\n",
                "2. Programming Part 2: Write a programme that specifies the line of best fit for the fertility rate for workers.\n",
                "\n",
                "3. Programming Part 3: Write a programme that can classify based on radius SE and texture SE of a breast mass and determine whether the diagnosis is mailgnant or benign.\n",
                "\n",
                "4. Programming Part 4: Write a programme that potentially improves the linear regression using regularisation.\n",
                "\n",
                "5. Programming Part 5: Write a programme that can classify two different types of data points with very high accuracy.\n",
                "\n",
                "### Instructions:\n",
                "\n",
                "1. Complete all three parts of the assignments by write the Python codes.\n",
                "2. Run your codes to ensure that the required outputs are delivered.\n",
                "3. Submit the assignment for grading and to get feedback.\n",
                "\n"
            ]
        },
        {
            "cell_type": "markdown",
            "metadata": {
                "deletable": false,
                "editable": false,
                "nbgrader": {
                    "grade": false,
                    "locked": true,
                    "solution": false
                }
            },
            "source": [
                "### Programming Part 1: Read the file containing the big heart dataset and display the output of these files\n",
                "\n",
                "\n",
                "\n",
                "### Assessment task:\n",
                "\n",
                "Write a programme that reads the file containing the big heart dataset and display the output of these files. There are 6 steps involved, you will complete the code for step 2 and 4 only.\n",
                "\n",
                "### Marks:\n",
                "This part is of 6 Marks. \n",
                "\n",
                "### Instructions:\n",
                "\n",
                "1. Write your Python code in place of \"your code here\" placeholder below.\n",
                "2. Run your code by clicking on 'run' cell in the toolbar before you submit.\n",
                "3. You will get the feedback once you submit the assignment.\n",
                "\n",
                "### Submission:\n",
                "\n",
                "Click on the submit button on the top right after you run the code."
            ]
        },
        {
            "cell_type": "markdown",
            "metadata": {
                "deletable": false,
                "editable": false,
                "nbgrader": {
                    "grade": false,
                    "locked": true,
                    "solution": false
                }
            },
            "source": [
                "#### Step 1\n",
                "Import the libraries."
            ]
        },
        {
            "cell_type": "code",
            "execution_count": 8,
            "metadata": {
                "collapsed": true
            },
            "outputs": [],
            "source": [
                "from random import seed\n",
                "from random import randrange\n",
                "from csv import reader\n",
                "from tabulate import tabulate"
            ]
        },
        {
            "cell_type": "markdown",
            "metadata": {},
            "source": [
                "#### Step 2\n",
                "\n",
                "Load the big heart CSV file"
            ]
        },
        {
            "cell_type": "code",
            "execution_count": 11,
            "metadata": {
                "collapsed": true
            },
            "outputs": [
                {
                    "name": "stdout",
                    "output_type": "stream",
                    "text": [
                        "[['43', '1', '2', '130', '315', '0', '1', '162', '0', '1.9', '2', '1', '2', '1'], ['53', '1', '2', '130', '246', '1', '0', '173', '0', '0', '2', '3', '2', '1'], ['42', '1', '3', '148', '244', '0', '0', '178', '0', '0.8', '2', '2', '2', '1'], ['59', '1', '3', '178', '270', '0', '0', '145', '0', '4.2', '0', '0', '3', '1'], ['63', '0', '1', '140', '195', '0', '1', '179', '0', '0', '2', '2', '2', '1'], ['42', '1', '2', '120', '240', '1', '1', '194', '0', '0.8', '0', '0', '3', '1'], ['50', '1', '2', '129', '196', '0', '1', '163', '0', '0', '2', '0', '2', '1'], ['68', '0', '2', '120', '211', '0', '0', '115', '0', '1.5', '1', '0', '2', '1'], ['69', '1', '3', '160', '234', '1', '0', '131', '0', '0.1', '1', '1', '2', '1'], ['45', '0', '0', '138', '236', '0', '0', '152', '1', '0.2', '1', '0', '2', '1'], ['50', '0', '1', '120', '244', '0', '1', '162', '0', '1.1', '2', '0', '2', '1'], ['50', '0', '0', '110', '254', '0', '0', '159', '0', '0', '2', '0', '2', '1'], ['64', '0', '0', '180', '325', '0', '1', '154', '1', '0', '2', '0', '2', '1'], ['57', '1', '2', '150', '126', '1', '1', '173', '0', '0.2', '2', '1', '3', '1'], ['64', '0', '2', '140', '313', '0', '1', '133', '0', '0.2', '2', '0', '3', '1'], ['43', '1', '0', '110', '211', '0', '1', '161', '0', '0', '2', '0', '3', '1'], ['55', '1', '1', '130', '262', '0', '1', '155', '0', '0', '2', '0', '2', '1'], ['37', '0', '2', '120', '215', '0', '1', '170', '0', '0', '2', '0', '2', '1'], ['41', '1', '2', '130', '214', '0', '0', '168', '0', '2', '1', '0', '2', '1'], ['56', '1', '3', '120', '193', '0', '0', '162', '0', '1.9', '1', '0', '3', '1'], ['46', '0', '1', '105', '204', '0', '1', '172', '0', '0', '2', '0', '2', '1'], ['46', '0', '0', '138', '243', '0', '0', '152', '1', '0', '1', '0', '2', '1'], ['64', '0', '0', '130', '303', '0', '1', '122', '0', '2', '1', '2', '2', '1'], ['59', '1', '0', '138', '271', '0', '0', '182', '0', '0', '2', '0', '2', '1'], ['41', '0', '2', '112', '268', '0', '0', '172', '1', '0', '2', '0', '2', '1'], ['54', '0', '2', '108', '267', '0', '0', '167', '0', '0', '2', '0', '2', '1'], ['39', '0', '2', '94', '199', '0', '1', '179', '0', '0', '2', '0', '2', '1'], ['34', '0', '1', '118', '210', '0', '1', '192', '0', '0.7', '2', '0', '2', '1'], ['47', '1', '0', '112', '204', '0', '1', '143', '0', '0.1', '2', '0', '2', '1'], ['67', '0', '2', '152', '277', '0', '1', '172', '0', '0', '2', '1', '2', '1'], ['52', '0', '2', '136', '196', '0', '0', '169', '0', '0.1', '1', '0', '2', '1'], ['74', '0', '1', '120', '269', '0', '0', '121', '1', '0.2', '2', '1', '2', '1'], ['54', '0', '2', '160', '201', '0', '1', '163', '0', '0', '2', '1', '2', '1'], ['49', '0', '1', '134', '271', '0', '1', '162', '0', '0', '1', '0', '2', '1'], ['42', '1', '1', '120', '295', '0', '1', '162', '0', '0', '2', '0', '2', '1'], ['41', '1', '1', '110', '235', '0', '1', '153', '0', '0', '2', '0', '2', '1'], ['41', '0', '1', '126', '306', '0', '1', '163', '0', '0', '2', '0', '2', '1'], ['49', '0', '0', '130', '269', '0', '1', '163', '0', '0', '2', '0', '2', '1'], ['60', '0', '2', '120', '178', '1', '1', '96', '0', '0', '2', '0', '2', '1'], ['62', '1', '1', '128', '208', '1', '0', '140', '0', '0', '2', '0', '2', '1'], ['57', '1', '0', '110', '201', '0', '1', '126', '1', '1.5', '1', '0', '1', '1'], ['64', '1', '0', '128', '263', '0', '1', '105', '1', '0.2', '1', '1', '3', '1'], ['51', '0', '2', '120', '295', '0', '0', '157', '0', '0.6', '2', '0', '2', '1'], ['43', '1', '0', '115', '303', '0', '1', '181', '0', '1.2', '1', '0', '2', '1'], ['42', '0', '2', '120', '209', '0', '1', '173', '0', '0', '1', '0', '2', '1'], ['67', '0', '0', '106', '223', '0', '1', '142', '0', '0.3', '2', '2', '2', '1'], ['76', '0', '2', '140', '197', '0', '2', '116', '0', '1.1', '1', '0', '2', '1'], ['70', '1', '1', '156', '245', '0', '0', '143', '0', '0', '2', '0', '2', '1'], ['44', '0', '2', '118', '242', '0', '1', '149', '0', '0.3', '1', '1', '2', '1'], ['60', '0', '3', '150', '240', '0', '1', '171', '0', '0.9', '2', '0', '2', '1'], ['44', '1', '2', '120', '226', '0', '1', '169', '0', '0', '2', '0', '2', '1'], ['42', '1', '2', '130', '180', '0', '1', '150', '0', '0', '2', '0', '2', '1'], ['66', '1', '0', '160', '228', '0', '0', '138', '0', '2.3', '2', '0', '1', '1'], ['71', '0', '0', '112', '149', '0', '1', '125', '0', '1.6', '1', '0', '2', '1'], ['64', '1', '3', '170', '227', '0', '0', '155', '0', '0.6', '1', '0', '3', '1'], ['66', '0', '2', '146', '278', '0', '0', '152', '0', '0', '1', '1', '2', '1'], ['39', '0', '2', '138', '220', '0', '1', '152', '0', '0', '1', '0', '2', '1'], ['58', '0', '0', '130', '197', '0', '1', '131', '0', '0.6', '1', '0', '2', '1'], ['47', '1', '2', '130', '253', '0', '1', '179', '0', '0', '2', '0', '2', '1'], ['35', '1', '1', '122', '192', '0', '1', '174', '0', '0', '2', '0', '2', '1'], ['58', '1', '1', '125', '220', '0', '1', '144', '0', '0.4', '1', '4', '3', '1'], ['56', '1', '1', '130', '221', '0', '0', '163', '0', '0', '2', '0', '3', '1'], ['56', '1', '1', '120', '240', '0', '1', '169', '0', '0', '0', '0', '2', '1'], ['55', '0', '1', '132', '342', '0', '1', '166', '0', '1.2', '2', '0', '2', '1'], ['41', '1', '1', '120', '157', '0', '1', '182', '0', '0', '2', '0', '2', '1'], ['38', '1', '2', '138', '175', '0', '1', '173', '0', '0', '2', '4', '2', '1'], ['38', '1', '2', '138', '175', '0', '1', '173', '0', '0', '2', '4', '2', '1'], ['67', '1', '0', '160', '286', '0', '0', '108', '1', '1.5', '1', '3', '2', '0'], ['67', '1', '0', '120', '229', '0', '0', '129', '1', '2.6', '1', '2', '3', '0'], ['62', '0', '0', '140', '268', '0', '0', '160', '0', '3.6', '0', '2', '2', '0'], ['63', '1', '0', '130', '254', '0', '0', '147', '0', '1.4', '1', '1', '3', '0'], ['53', '1', '0', '140', '203', '1', '0', '155', '1', '3.1', '0', '0', '3', '0'], ['56', '1', '2', '130', '256', '1', '0', '142', '1', '0.6', '1', '1', '1', '0'], ['48', '1', '1', '110', '229', '0', '1', '168', '0', '1', '0', '0', '3', '0'], ['58', '1', '1', '120', '284', '0', '0', '160', '0', '1.8', '1', '0', '2', '0'], ['58', '1', '2', '132', '224', '0', '0', '173', '0', '3.2', '2', '2', '3', '0'], ['60', '1', '0', '130', '206', '0', '0', '132', '1', '2.4', '1', '2', '3', '0'], ['40', '1', '0', '110', '167', '0', '0', '114', '1', '2', '1', '0', '3', '0'], ['60', '1', '0', '117', '230', '1', '1', '160', '1', '1.4', '2', '2', '3', '0'], ['64', '1', '2', '140', '335', '0', '1', '158', '0', '0', '2', '0', '2', '0'], ['43', '1', '0', '120', '177', '0', '0', '120', '1', '2.5', '1', '0', '3', '0'], ['57', '1', '0', '150', '276', '0', '0', '112', '1', '0.6', '1', '1', '1', '0'], ['55', '1', '0', '132', '353', '0', '1', '132', '1', '1.2', '1', '1', '3', '0'], ['65', '0', '0', '150', '225', '0', '0', '114', '0', '1', '1', '3', '3', '0'], ['61', '0', '0', '130', '330', '0', '0', '169', '0', '0', '2', '0', '2', '0'], ['58', '1', '2', '112', '230', '0', '0', '165', '0', '2.5', '1', '1', '3', '0'], ['50', '1', '0', '150', '243', '0', '0', '128', '0', '2.6', '1', '0', '3', '0'], ['44', '1', '0', '112', '290', '0', '0', '153', '0', '0', '2', '1', '2', '0'], ['60', '1', '0', '130', '253', '0', '1', '144', '1', '1.4', '2', '1', '3', '0'], ['54', '1', '0', '124', '266', '0', '0', '109', '1', '2.2', '1', '1', '3', '0'], ['50', '1', '2', '140', '233', '0', '1', '163', '0', '0.6', '1', '1', '3', '0'], ['41', '1', '0', '110', '172', '0', '0', '158', '0', '0', '2', '0', '3', '0'], ['51', '0', '0', '130', '305', '0', '1', '142', '1', '1.2', '1', '0', '3', '0'], ['58', '1', '0', '128', '216', '0', '0', '131', '1', '2.2', '1', '3', '3', '0'], ['54', '1', '0', '120', '188', '0', '1', '113', '0', '1.4', '1', '1', '3', '0'], ['60', '1', '0', '145', '282', '0', '0', '142', '1', '2.8', '1', '2', '3', '0'], ['60', '1', '2', '140', '185', '0', '0', '155', '0', '3', '1', '0', '2', '0'], ['59', '1', '0', '170', '326', '0', '0', '140', '1', '3.4', '0', '0', '3', '0'], ['46', '1', '2', '150', '231', '0', '1', '147', '0', '3.6', '1', '0', '2', '0'], ['67', '1', '0', '125', '254', '1', '1', '163', '0', '0.2', '1', '2', '3', '0'], ['62', '1', '0', '120', '267', '0', '1', '99', '1', '1.8', '1', '2', '3', '0'], ['65', '1', '0', '110', '248', '0', '0', '158', '0', '0.6', '2', '2', '1', '0'], ['44', '1', '0', '110', '197', '0', '0', '177', '0', '0', '2', '1', '2', '0'], ['60', '1', '0', '125', '258', '0', '0', '141', '1', '2.8', '1', '1', '3', '0'], ['58', '1', '0', '150', '270', '0', '0', '111', '1', '0.8', '2', '0', '3', '0'], ['68', '1', '2', '180', '274', '1', '0', '150', '1', '1.6', '1', '0', '3', '0'], ['62', '0', '0', '160', '164', '0', '0', '145', '0', '6.2', '0', '3', '3', '0'], ['52', '1', '0', '128', '255', '0', '1', '161', '1', '0', '2', '1', '3', '0'], ['59', '1', '0', '110', '239', '0', '0', '142', '1', '1.2', '1', '1', '3', '0'], ['60', '0', '0', '150', '258', '0', '0', '157', '0', '2.6', '1', '2', '3', '0'], ['49', '1', '2', '120', '188', '0', '1', '139', '0', '2', '1', '3', '3', '0'], ['59', '1', '0', '140', '177', '0', '1', '162', '1', '0', '2', '1', '3', '0'], ['57', '1', '2', '128', '229', '0', '0', '150', '0', '0.4', '1', '1', '3', '0'], ['61', '1', '0', '120', '260', '0', '1', '140', '1', '3.6', '1', '1', '3', '0'], ['39', '1', '0', '118', '219', '0', '1', '140', '0', '1.2', '1', '0', '3', '0'], ['61', '0', '0', '145', '307', '0', '0', '146', '1', '1', '1', '0', '3', '0'], ['56', '1', '0', '125', '249', '1', '0', '144', '1', '1.2', '1', '1', '2', '0'], ['43', '0', '0', '132', '341', '1', '0', '136', '1', '3', '1', '0', '3', '0'], ['62', '0', '2', '130', '263', '0', '1', '97', '0', '1.2', '1', '1', '3', '0'], ['63', '1', '0', '130', '330', '1', '0', '132', '1', '1.8', '2', '3', '3', '0'], ['65', '1', '0', '135', '254', '0', '0', '127', '0', '2.8', '1', '1', '3', '0'], ['48', '1', '0', '130', '256', '1', '0', '150', '1', '0', '2', '2', '3', '0'], ['63', '0', '0', '150', '407', '0', '0', '154', '0', '4', '1', '3', '3', '0'], ['55', '1', '0', '140', '217', '0', '1', '111', '1', '5.6', '0', '0', '3', '0'], ['65', '1', '3', '138', '282', '1', '0', '174', '0', '1.4', '1', '1', '2', '0'], ['56', '0', '0', '200', '288', '1', '0', '133', '1', '4', '0', '2', '3', '0'], ['54', '1', '0', '110', '239', '0', '1', '126', '1', '2.8', '1', '1', '3', '0'], ['70', '1', '0', '145', '174', '0', '1', '125', '1', '2.6', '0', '0', '3', '0'], ['62', '1', '1', '120', '281', '0', '0', '103', '0', '1.4', '1', '1', '3', '0'], ['35', '1', '0', '120', '198', '0', '1', '130', '1', '1.6', '1', '0', '3', '0'], ['59', '1', '3', '170', '288', '0', '0', '159', '0', '0.2', '1', '0', '3', '0'], ['64', '1', '2', '125', '309', '0', '1', '131', '1', '1.8', '1', '0', '3', '0'], ['47', '1', '2', '108', '243', '0', '1', '152', '0', '0', '2', '0', '2', '0'], ['57', '1', '0', '165', '289', '1', '0', '124', '0', '1', '1', '3', '3', '0'], ['55', '1', '0', '160', '289', '0', '0', '145', '1', '0.8', '1', '1', '3', '0'], ['64', '1', '0', '120', '246', '0', '0', '96', '1', '2.2', '0', '1', '2', '0'], ['70', '1', '0', '130', '322', '0', '0', '109', '0', '2.4', '1', '3', '2', '0'], ['51', '1', '0', '140', '299', '0', '1', '173', '1', '1.6', '2', '0', '3', '0'], ['58', '1', '0', '125', '300', '0', '0', '171', '0', '0', '2', '2', '3', '0'], ['60', '1', '0', '140', '293', '0', '0', '170', '0', '1.2', '1', '2', '3', '0'], ['77', '1', '0', '125', '304', '0', '0', '162', '1', '0', '2', '3', '2', '0'], ['35', '1', '0', '126', '282', '0', '0', '156', '1', '0', '2', '0', '3', '0'], ['70', '1', '2', '160', '269', '0', '1', '112', '1', '2.9', '1', '1', '3', '0'], ['59', '0', '0', '174', '249', '0', '1', '143', '1', '0', '1', '0', '2', '0'], ['64', '1', '0', '145', '212', '0', '0', '132', '0', '2', '1', '2', '1', '0'], ['57', '1', '0', '152', '274', '0', '1', '88', '1', '1.2', '1', '1', '3', '0'], ['56', '1', '0', '132', '184', '0', '0', '105', '1', '2.1', '1', '1', '1', '0'], ['48', '1', '0', '124', '274', '0', '0', '166', '0', '0.5', '1', '0', '3', '0'], ['56', '0', '0', '134', '409', '0', '0', '150', '1', '1.9', '1', '2', '3', '0'], ['66', '1', '1', '160', '246', '0', '1', '120', '1', '0', '1', '3', '1', '0'], ['54', '1', '1', '192', '283', '0', '0', '195', '0', '0', '2', '1', '3', '0'], ['69', '1', '2', '140', '254', '0', '0', '146', '0', '2', '1', '3', '3', '0'], ['51', '1', '0', '140', '298', '0', '1', '122', '1', '4.2', '1', '3', '3', '0'], ['43', '1', '0', '132', '247', '1', '0', '143', '1', '0.1', '1', '4', '3', '0'], ['62', '0', '0', '138', '294', '1', '1', '106', '0', '1.9', '1', '3', '2', '0'], ['67', '1', '0', '100', '299', '0', '0', '125', '1', '0.9', '1', '2', '2', '0'], ['59', '1', '3', '160', '273', '0', '0', '125', '0', '0', '2', '0', '2', '0'], ['45', '1', '0', '142', '309', '0', '0', '147', '1', '0', '1', '3', '3', '0'], ['58', '1', '0', '128', '259', '0', '0', '130', '1', '3', '1', '2', '3', '0'], ['50', '1', '0', '144', '200', '0', '0', '126', '1', '0.9', '1', '0', '3', '0'], ['62', '0', '0', '150', '244', '0', '1', '154', '1', '1.4', '1', '0', '2', '0'], ['38', '1', '3', '120', '231', '0', '1', '182', '1', '3.8', '1', '0', '3', '0'], ['66', '0', '0', '178', '228', '1', '1', '165', '1', '1', '1', '2', '3', '0'], ['52', '1', '0', '112', '230', '0', '1', '160', '0', '0', '2', '1', '2', '0'], ['53', '1', '0', '123', '282', '0', '1', '95', '1', '2', '1', '2', '3', '0'], ['63', '0', '0', '108', '269', '0', '1', '169', '1', '1.8', '1', '2', '2', '0'], ['54', '1', '0', '110', '206', '0', '0', '108', '1', '0', '1', '1', '2', '0'], ['66', '1', '0', '112', '212', '0', '0', '132', '1', '0.1', '2', '1', '2', '0'], ['55', '0', '0', '180', '327', '0', '2', '117', '1', '3.4', '1', '0', '2', '0'], ['49', '1', '2', '118', '149', '0', '0', '126', '0', '0.8', '2', '3', '2', '0'], ['54', '1', '0', '122', '286', '0', '0', '116', '1', '3.2', '1', '2', '2', '0'], ['56', '1', '0', '130', '283', '1', '0', '103', '1', '1.6', '0', '0', '3', '0'], ['46', '1', '0', '120', '249', '0', '0', '144', '0', '0.8', '2', '0', '3', '0'], ['61', '1', '3', '134', '234', '0', '1', '145', '0', '2.6', '1', '2', '2', '0'], ['67', '1', '0', '120', '237', '0', '1', '71', '0', '1', '1', '0', '2', '0'], ['58', '1', '0', '100', '234', '0', '1', '156', '0', '0.1', '2', '1', '3', '0'], ['47', '1', '0', '110', '275', '0', '0', '118', '1', '1', '1', '1', '2', '0'], ['52', '1', '0', '125', '212', '0', '1', '168', '0', '1', '2', '2', '3', '0'], ['58', '1', '0', '146', '218', '0', '1', '105', '0', '2', '1', '1', '3', '0'], ['57', '1', '1', '124', '261', '0', '1', '141', '0', '0.3', '2', '0', '3', '0'], ['58', '0', '1', '136', '319', '1', '0', '152', '0', '0', '2', '2', '2', '0'], ['61', '1', '0', '138', '166', '0', '0', '125', '1', '3.6', '1', '1', '2', '0'], ['42', '1', '0', '136', '315', '0', '1', '125', '1', '1.8', '1', '0', '1', '0'], ['52', '1', '0', '128', '204', '1', '1', '156', '1', '1', '1', '0', '0', '0'], ['59', '1', '2', '126', '218', '1', '1', '134', '0', '2.2', '1', '1', '1', '0'], ['40', '1', '0', '152', '223', '0', '1', '181', '0', '0', '2', '0', '3', '0'], ['61', '1', '0', '140', '207', '0', '0', '138', '1', '1.9', '2', '1', '3', '0'], ['46', '1', '0', '140', '311', '0', '1', '120', '1', '1.8', '1', '2', '3', '0'], ['59', '1', '3', '134', '204', '0', '1', '162', '0', '0.8', '2', '2', '2', '0'], ['57', '1', '1', '154', '232', '0', '0', '164', '0', '0', '2', '1', '2', '0'], ['57', '1', '0', '110', '335', '0', '1', '143', '1', '3', '1', '1', '3', '0'], ['55', '0', '0', '128', '205', '0', '2', '130', '1', '2', '1', '1', '3', '0'], ['61', '1', '0', '148', '203', '0', '1', '161', '0', '0', '2', '1', '3', '0'], ['58', '1', '0', '114', '318', '0', '2', '140', '0', '4.4', '0', '3', '1', '0'], ['58', '0', '0', '170', '225', '1', '0', '146', '1', '2.8', '1', '2', '1', '0'], ['67', '1', '2', '152', '212', '0', '0', '150', '0', '0.8', '1', '0', '3', '0'], ['44', '1', '0', '120', '169', '0', '1', '144', '1', '2.8', '0', '0', '1', '0'], ['63', '1', '0', '140', '187', '0', '0', '144', '1', '4', '2', '2', '3', '0'], ['63', '0', '0', '124', '197', '0', '1', '136', '1', '0', '1', '0', '2', '0'], ['59', '1', '0', '164', '176', '1', '0', '90', '0', '1', '1', '2', '1', '0'], ['57', '0', '0', '140', '241', '0', '1', '123', '1', '0.2', '1', '0', '3', '0'], ['45', '1', '3', '110', '264', '0', '1', '132', '0', '1.2', '1', '0', '3', '0'], ['68', '1', '0', '144', '193', '1', '1', '141', '0', '3.4', '1', '2', '3', '0'], ['57', '1', '0', '130', '131', '0', '1', '115', '1', '1.2', '1', '1', '3', '0'], ['57', '0', '1', '130', '236', '0', '0', '174', '0', '0', '1', '1', '2', '0']]\n"
                    ]
                }
            ],
            "source": [
                "def load_csv(filename, skip = False):\n",
                "###\n",
                "### YOUR CODE HERE\n",
                "###\n",
                "    data = []\n",
                "\n",
                "    try:\n",
                "        with open(filename, 'r') as file:\n",
                "            csv_reader = reader(file)\n",
                "            \n",
                "            # Optionally, you can skip the header row if 'skip' is set to True\n",
                "            if skip:\n",
                "                next(csv_reader)\n",
                "            \n",
                "            # Loop through each row in the CSV file and append it to the 'data' list\n",
                "            for row in csv_reader:\n",
                "                data.append(row)\n",
                "    \n",
                "    except FileNotFoundError:\n",
                "        print(f\"Error: File '{filename}' not found.\")\n",
                "        return None\n",
                "\n",
                "    return data\n",
                "\n",
                "# Example usage:\n",
                "filename = 'big_heart.csv'  # Replace with the actual filename\n",
                "heart_data = load_csv(filename, skip=True)  # Skip the header row\n",
                "\n",
                "print (heart_data)\n",
                "\n",
                "    "
            ]
        },
        {
            "cell_type": "markdown",
            "metadata": {},
            "source": [
                "#### Step 3\n",
                "\n",
                "Print the file's content\n",
                "\n",
                "_Note: This function can be called for other parts in the assignment_"
            ]
        },
        {
            "cell_type": "code",
            "execution_count": 10,
            "metadata": {
                "collapsed": true
            },
            "outputs": [],
            "source": [
                "def print_the_dataset(dataset, contents = True, length = True):\n",
                "    if(contents):\n",
                "        print(tabulate(dataset))\n",
                "        \n",
                "    if(length):\n",
                "        print(len(dataset))\n"
            ]
        },
        {
            "cell_type": "markdown",
            "metadata": {},
            "source": [
                "#### Step 4\n",
                "\n",
                "Split the big heart dataset into training and test data"
            ]
        },
        {
            "cell_type": "code",
            "execution_count": null,
            "metadata": {
                "collapsed": true
            },
            "outputs": [
                {
                    "ename": "",
                    "evalue": "",
                    "output_type": "error",
                    "traceback": [
                        "\u001b[1;31mRunning cells with 'c:\\Users\\SAQIB ANSARI\\AppData\\Local\\Programs\\Python\\Python311\\python.exe' requires the ipykernel package.\n",
                        "\u001b[1;31mRun the following command to install 'ipykernel' into the Python environment. \n",
                        "\u001b[1;31mCommand: '\"c:/Users/SAQIB ANSARI/AppData/Local/Programs/Python/Python311/python.exe\" -m pip install ipykernel -U --user --force-reinstall'"
                    ]
                }
            ],
            "source": [
                "def train_test_split(dataset, split):\n",
                "\n",
                "\n",
                "    # Create an empty list for the training set\n",
                "    ###\n",
                "    ### YOUR CODE HERE\n",
                "    ###\n",
                "    \n",
                "    # Define the size of the training set\n",
                "    ###\n",
                "    ### YOUR CODE HERE\n",
                "    ###\n",
                "    \n",
                "    # Copy the original dataset to \n",
                "    ###\n",
                "    ### YOUR CODE HERE\n",
                "    ###\n",
                "    \n",
                "    #Loops only to the size of the training set\n",
                "    ###\n",
                "    ### YOUR CODE HERE\n",
                "    ###\n",
                "        \n",
                "        # Populate the training set, by moving the data points from the\n",
                "        # dataset/test set to the training set\n",
                "        \n",
                "        ###\n",
                "        ### YOUR CODE HERE\n",
                "        ###\n",
                "        \n",
                "    # Return both the training set and test set \n",
                "    ###\n",
                "    ### YOUR CODE HERE\n",
                "    ###\n"
            ]
        },
        {
            "cell_type": "markdown",
            "metadata": {},
            "source": [
                "#### Step 5\n",
                "\n",
                "Seed the random value"
            ]
        },
        {
            "cell_type": "code",
            "execution_count": null,
            "metadata": {
                "collapsed": true
            },
            "outputs": [
                {
                    "ename": "",
                    "evalue": "",
                    "output_type": "error",
                    "traceback": [
                        "\u001b[1;31mRunning cells with 'c:\\Users\\SAQIB ANSARI\\AppData\\Local\\Programs\\Python\\Python311\\python.exe' requires the ipykernel package.\n",
                        "\u001b[1;31mRun the following command to install 'ipykernel' into the Python environment. \n",
                        "\u001b[1;31mCommand: '\"c:/Users/SAQIB ANSARI/AppData/Local/Programs/Python/Python311/python.exe\" -m pip install ipykernel -U --user --force-reinstall'"
                    ]
                }
            ],
            "source": [
                "seed(1)"
            ]
        },
        {
            "cell_type": "markdown",
            "metadata": {},
            "source": [
                "#### Step 6\n",
                "\n",
                "Load and prepare data"
            ]
        },
        {
            "cell_type": "code",
            "execution_count": null,
            "metadata": {
                "collapsed": true
            },
            "outputs": [
                {
                    "ename": "",
                    "evalue": "",
                    "output_type": "error",
                    "traceback": [
                        "\u001b[1;31mRunning cells with 'c:\\Users\\SAQIB ANSARI\\AppData\\Local\\Programs\\Python\\Python311\\python.exe' requires the ipykernel package.\n",
                        "\u001b[1;31mRun the following command to install 'ipykernel' into the Python environment. \n",
                        "\u001b[1;31mCommand: '\"c:/Users/SAQIB ANSARI/AppData/Local/Programs/Python/Python311/python.exe\" -m pip install ipykernel -U --user --force-reinstall'"
                    ]
                }
            ],
            "source": [
                "filename = 'big_heart.csv'\n",
                "\n",
                "dataset = load_csv(filename, skip = True)\n",
                "print_the_dataset(dataset)\n",
                "training, test = train_test_split(dataset, 0.8)"
            ]
        },
        {
            "cell_type": "code",
            "execution_count": null,
            "metadata": {
                "collapsed": true
            },
            "outputs": [
                {
                    "ename": "",
                    "evalue": "",
                    "output_type": "error",
                    "traceback": [
                        "\u001b[1;31mRunning cells with 'c:\\Users\\SAQIB ANSARI\\AppData\\Local\\Programs\\Python\\Python311\\python.exe' requires the ipykernel package.\n",
                        "\u001b[1;31mRun the following command to install 'ipykernel' into the Python environment. \n",
                        "\u001b[1;31mCommand: '\"c:/Users/SAQIB ANSARI/AppData/Local/Programs/Python/Python311/python.exe\" -m pip install ipykernel -U --user --force-reinstall'"
                    ]
                }
            ],
            "source": [
                "print(len(training))"
            ]
        },
        {
            "cell_type": "code",
            "execution_count": null,
            "metadata": {
                "collapsed": true
            },
            "outputs": [
                {
                    "ename": "",
                    "evalue": "",
                    "output_type": "error",
                    "traceback": [
                        "\u001b[1;31mRunning cells with 'c:\\Users\\SAQIB ANSARI\\AppData\\Local\\Programs\\Python\\Python311\\python.exe' requires the ipykernel package.\n",
                        "\u001b[1;31mRun the following command to install 'ipykernel' into the Python environment. \n",
                        "\u001b[1;31mCommand: '\"c:/Users/SAQIB ANSARI/AppData/Local/Programs/Python/Python311/python.exe\" -m pip install ipykernel -U --user --force-reinstall'"
                    ]
                }
            ],
            "source": [
                "print(len(test))"
            ]
        },
        {
            "cell_type": "code",
            "execution_count": null,
            "metadata": {
                "collapsed": true,
                "deletable": false,
                "editable": false,
                "nbgrader": {
                    "grade": true,
                    "grade_id": "Part 1.1",
                    "locked": true,
                    "points": "3",
                    "solution": false
                }
            },
            "outputs": [
                {
                    "ename": "",
                    "evalue": "",
                    "output_type": "error",
                    "traceback": [
                        "\u001b[1;31mRunning cells with 'c:\\Users\\SAQIB ANSARI\\AppData\\Local\\Programs\\Python\\Python311\\python.exe' requires the ipykernel package.\n",
                        "\u001b[1;31mRun the following command to install 'ipykernel' into the Python environment. \n",
                        "\u001b[1;31mCommand: '\"c:/Users/SAQIB ANSARI/AppData/Local/Programs/Python/Python311/python.exe\" -m pip install ipykernel -U --user --force-reinstall'"
                    ]
                }
            ],
            "source": [
                "###\n",
                "### AUTOGRADER TEST - DO NOT REMOVE\n",
                "###\n"
            ]
        },
        {
            "cell_type": "code",
            "execution_count": null,
            "metadata": {
                "collapsed": true,
                "deletable": false,
                "editable": false,
                "nbgrader": {
                    "grade": true,
                    "grade_id": "Part 1.2",
                    "locked": true,
                    "points": "3",
                    "solution": false
                }
            },
            "outputs": [
                {
                    "ename": "",
                    "evalue": "",
                    "output_type": "error",
                    "traceback": [
                        "\u001b[1;31mRunning cells with 'c:\\Users\\SAQIB ANSARI\\AppData\\Local\\Programs\\Python\\Python311\\python.exe' requires the ipykernel package.\n",
                        "\u001b[1;31mRun the following command to install 'ipykernel' into the Python environment. \n",
                        "\u001b[1;31mCommand: '\"c:/Users/SAQIB ANSARI/AppData/Local/Programs/Python/Python311/python.exe\" -m pip install ipykernel -U --user --force-reinstall'"
                    ]
                }
            ],
            "source": [
                "###\n",
                "### AUTOGRADER TEST - DO NOT REMOVE\n",
                "###\n"
            ]
        },
        {
            "cell_type": "markdown",
            "metadata": {
                "deletable": false,
                "editable": false,
                "nbgrader": {
                    "grade": false,
                    "locked": true,
                    "solution": false
                }
            },
            "source": [
                "## Programming Part 2: Linear Regression\n",
                "\n",
                "Write a programme that specifies the line of best fit for the fertility rate for workers.\n",
                "\n",
                "\n",
                "### Assessment task:\n",
                "\n",
                "Write code to analyse the relationships between the variables in a dataset between the percentage of female workers and the fertility rate of women. There are 13 steps involved, you will complete the code for steps 2, 3, 4, 5, 6, 7 and 9 only.\n",
                "\n",
                "### Marks:\n",
                "\n",
                "This part is of 6 Marks. \n",
                "\n",
                "### Instructions:\n",
                "\n",
                "1. Write your Python code in place of \"your code here\" placeholder below.\n",
                "2. Run your code by clicking on 'run' cell in the toolbar before you submit.\n",
                "3. You will get the feedback once you submit the assignment.\n",
                "\n",
                "### Submission:\n",
                "\n",
                "Click on the submit button on the top right after you run the code."
            ]
        },
        {
            "cell_type": "markdown",
            "metadata": {
                "deletable": false,
                "editable": false,
                "nbgrader": {
                    "grade": false,
                    "locked": true,
                    "solution": false
                }
            },
            "source": [
                "#### Step 1\n",
                "\n",
                "Import the needed libraries."
            ]
        },
        {
            "cell_type": "code",
            "execution_count": null,
            "metadata": {
                "collapsed": true
            },
            "outputs": [
                {
                    "ename": "",
                    "evalue": "",
                    "output_type": "error",
                    "traceback": [
                        "\u001b[1;31mRunning cells with 'c:\\Users\\SAQIB ANSARI\\AppData\\Local\\Programs\\Python\\Python311\\python.exe' requires the ipykernel package.\n",
                        "\u001b[1;31mRun the following command to install 'ipykernel' into the Python environment. \n",
                        "\u001b[1;31mCommand: '\"c:/Users/SAQIB ANSARI/AppData/Local/Programs/Python/Python311/python.exe\" -m pip install ipykernel -U --user --force-reinstall'"
                    ]
                }
            ],
            "source": [
                "from math import sqrt\n",
                "from matplotlib import pyplot as plot\n",
                "from random import seed\n",
                "from random import randrange\n",
                "from csv import reader"
            ]
        },
        {
            "cell_type": "markdown",
            "metadata": {
                "deletable": false,
                "editable": false,
                "nbgrader": {
                    "grade": false,
                    "locked": true,
                    "solution": false
                }
            },
            "source": [
                "#### Step 2\n",
                "\n",
                "Load a CSV file"
            ]
        },
        {
            "cell_type": "code",
            "execution_count": null,
            "metadata": {
                "collapsed": true
            },
            "outputs": [
                {
                    "ename": "",
                    "evalue": "",
                    "output_type": "error",
                    "traceback": [
                        "\u001b[1;31mRunning cells with 'c:\\Users\\SAQIB ANSARI\\AppData\\Local\\Programs\\Python\\Python311\\python.exe' requires the ipykernel package.\n",
                        "\u001b[1;31mRun the following command to install 'ipykernel' into the Python environment. \n",
                        "\u001b[1;31mCommand: '\"c:/Users/SAQIB ANSARI/AppData/Local/Programs/Python/Python311/python.exe\" -m pip install ipykernel -U --user --force-reinstall'"
                    ]
                }
            ],
            "source": [
                "def load_csv(filename, skip = False):\n",
                "\n",
                "    dataset = list()\n",
                "    # Opens the file in read only mode\n",
                "    \n",
                "     \n",
                "    with open(filename, 'r') as file:\n",
                "        csv_reader = reader(file)\n",
                "        \n",
                "        # Skip the header, if needed\n",
                "        ###\n",
                "        ### YOUR CODE HERE\n",
                "        ###\n"
            ]
        },
        {
            "cell_type": "markdown",
            "metadata": {
                "deletable": false,
                "editable": false,
                "nbgrader": {
                    "grade": false,
                    "locked": true,
                    "solution": false
                }
            },
            "source": [
                "#### Step 3\n",
                "\n",
                "Convert string column to float"
            ]
        },
        {
            "cell_type": "code",
            "execution_count": null,
            "metadata": {
                "collapsed": true
            },
            "outputs": [
                {
                    "ename": "",
                    "evalue": "",
                    "output_type": "error",
                    "traceback": [
                        "\u001b[1;31mRunning cells with 'c:\\Users\\SAQIB ANSARI\\AppData\\Local\\Programs\\Python\\Python311\\python.exe' requires the ipykernel package.\n",
                        "\u001b[1;31mRun the following command to install 'ipykernel' into the Python environment. \n",
                        "\u001b[1;31mCommand: '\"c:/Users/SAQIB ANSARI/AppData/Local/Programs/Python/Python311/python.exe\" -m pip install ipykernel -U --user --force-reinstall'"
                    ]
                }
            ],
            "source": [
                "def string_column_to_float(dataset, column):\n",
                " \n",
                "    for row in dataset:\n",
                "        # The strip() function remove white space\n",
                "        # then convert the data into a decimal number (float)\n",
                "        # and overwrite the original data\n",
                "        \n",
                "        ###\n",
                "        ### YOUR CODE HERE\n",
                "        ###\n"
            ]
        },
        {
            "cell_type": "markdown",
            "metadata": {
                "deletable": false,
                "editable": false,
                "nbgrader": {
                    "grade": false,
                    "locked": true,
                    "solution": false
                }
            },
            "source": [
                "#### Step 4\n",
                "\n",
                "Calculate the mean value of a list of numbers"
            ]
        },
        {
            "cell_type": "code",
            "execution_count": null,
            "metadata": {
                "collapsed": true
            },
            "outputs": [
                {
                    "ename": "",
                    "evalue": "",
                    "output_type": "error",
                    "traceback": [
                        "\u001b[1;31mRunning cells with 'c:\\Users\\SAQIB ANSARI\\AppData\\Local\\Programs\\Python\\Python311\\python.exe' requires the ipykernel package.\n",
                        "\u001b[1;31mRun the following command to install 'ipykernel' into the Python environment. \n",
                        "\u001b[1;31mCommand: '\"c:/Users/SAQIB ANSARI/AppData/Local/Programs/Python/Python311/python.exe\" -m pip install ipykernel -U --user --force-reinstall'"
                    ]
                }
            ],
            "source": [
                "def mean(values):\n",
                " \n",
                "    # Sum all the values and then divide number of values\n",
                "    ###\n",
                "    ### YOUR CODE HERE\n",
                "    ###\n"
            ]
        },
        {
            "cell_type": "markdown",
            "metadata": {},
            "source": [
                "#### Step 5\n",
                "\n",
                "Calculate least squares between x and y"
            ]
        },
        {
            "cell_type": "code",
            "execution_count": null,
            "metadata": {
                "collapsed": true
            },
            "outputs": [
                {
                    "ename": "",
                    "evalue": "",
                    "output_type": "error",
                    "traceback": [
                        "\u001b[1;31mRunning cells with 'c:\\Users\\SAQIB ANSARI\\AppData\\Local\\Programs\\Python\\Python311\\python.exe' requires the ipykernel package.\n",
                        "\u001b[1;31mRun the following command to install 'ipykernel' into the Python environment. \n",
                        "\u001b[1;31mCommand: '\"c:/Users/SAQIB ANSARI/AppData/Local/Programs/Python/Python311/python.exe\" -m pip install ipykernel -U --user --force-reinstall'"
                    ]
                }
            ],
            "source": [
                "def leastSquares(dataset):\n",
                "\n",
                "    x = list()\n",
                "    y = list()\n",
                "    \n",
                "    for row in dataset:\n",
                "        x.append(row[0])\n",
                "        \n",
                "    for row in dataset:\n",
                "        y.append(row[1])\n",
                "\n",
                "    b0 = 0\n",
                "    b1 = 0\n",
                "    \n",
                "    ###\n",
                "    ### YOUR CODE HERE\n",
                "    ###\n",
                "    \n",
                "    return [b0, b1]"
            ]
        },
        {
            "cell_type": "markdown",
            "metadata": {},
            "source": [
                "#### Step 6\n",
                "\n",
                "Calculate root mean squared error"
            ]
        },
        {
            "cell_type": "code",
            "execution_count": null,
            "metadata": {
                "collapsed": true
            },
            "outputs": [
                {
                    "ename": "",
                    "evalue": "",
                    "output_type": "error",
                    "traceback": [
                        "\u001b[1;31mRunning cells with 'c:\\Users\\SAQIB ANSARI\\AppData\\Local\\Programs\\Python\\Python311\\python.exe' requires the ipykernel package.\n",
                        "\u001b[1;31mRun the following command to install 'ipykernel' into the Python environment. \n",
                        "\u001b[1;31mCommand: '\"c:/Users/SAQIB ANSARI/AppData/Local/Programs/Python/Python311/python.exe\" -m pip install ipykernel -U --user --force-reinstall'"
                    ]
                }
            ],
            "source": [
                "def root_mean_square_error(actual, predicted): \n",
                "    sum_error = 0.0\n",
                "    ###\n",
                "    ### YOUR CODE HERE\n",
                "    ###\n",
                "        \n",
                "    ###\n",
                "    ### YOUR CODE HERE\n",
                "    ###\n"
            ]
        },
        {
            "cell_type": "markdown",
            "metadata": {},
            "source": [
                "#### Step 7\n",
                "\n",
                "Make Predictions"
            ]
        },
        {
            "cell_type": "code",
            "execution_count": null,
            "metadata": {
                "collapsed": true
            },
            "outputs": [
                {
                    "ename": "",
                    "evalue": "",
                    "output_type": "error",
                    "traceback": [
                        "\u001b[1;31mRunning cells with 'c:\\Users\\SAQIB ANSARI\\AppData\\Local\\Programs\\Python\\Python311\\python.exe' requires the ipykernel package.\n",
                        "\u001b[1;31mRun the following command to install 'ipykernel' into the Python environment. \n",
                        "\u001b[1;31mCommand: '\"c:/Users/SAQIB ANSARI/AppData/Local/Programs/Python/Python311/python.exe\" -m pip install ipykernel -U --user --force-reinstall'"
                    ]
                }
            ],
            "source": [
                "def simple_linear_regression(train, test):\n",
                "\n",
                "    predictions = list()\n",
                "    b0, b1 = leastSquares(train)\n",
                "    \n",
                "    # Calculate the prediction (yhat)\n",
                "    ###\n",
                "    ### YOUR CODE HERE\n",
                "    ###\n"
            ]
        },
        {
            "cell_type": "markdown",
            "metadata": {},
            "source": [
                "#### Step 8\n",
                "\n",
                "Split the data into training and test sets"
            ]
        },
        {
            "cell_type": "code",
            "execution_count": null,
            "metadata": {
                "collapsed": true
            },
            "outputs": [
                {
                    "ename": "",
                    "evalue": "",
                    "output_type": "error",
                    "traceback": [
                        "\u001b[1;31mRunning cells with 'c:\\Users\\SAQIB ANSARI\\AppData\\Local\\Programs\\Python\\Python311\\python.exe' requires the ipykernel package.\n",
                        "\u001b[1;31mRun the following command to install 'ipykernel' into the Python environment. \n",
                        "\u001b[1;31mCommand: '\"c:/Users/SAQIB ANSARI/AppData/Local/Programs/Python/Python311/python.exe\" -m pip install ipykernel -U --user --force-reinstall'"
                    ]
                }
            ],
            "source": [
                "def train_test_split(dataset, split):\n",
                "    train = list()\n",
                "    train_size = split * len(dataset)\n",
                "    test = list(dataset)\n",
                "    \n",
                "    while len(train) < train_size:\n",
                "        index = randrange(len(test))\n",
                "        train.append(test.pop(index))\n",
                "        \n",
                "    return train, test"
            ]
        },
        {
            "cell_type": "markdown",
            "metadata": {},
            "source": [
                "#### Step 9\n",
                "\n",
                "Evaluate regression algorithm on training dataset"
            ]
        },
        {
            "cell_type": "code",
            "execution_count": null,
            "metadata": {
                "collapsed": true
            },
            "outputs": [
                {
                    "ename": "",
                    "evalue": "",
                    "output_type": "error",
                    "traceback": [
                        "\u001b[1;31mRunning cells with 'c:\\Users\\SAQIB ANSARI\\AppData\\Local\\Programs\\Python\\Python311\\python.exe' requires the ipykernel package.\n",
                        "\u001b[1;31mRun the following command to install 'ipykernel' into the Python environment. \n",
                        "\u001b[1;31mCommand: '\"c:/Users/SAQIB ANSARI/AppData/Local/Programs/Python/Python311/python.exe\" -m pip install ipykernel -U --user --force-reinstall'"
                    ]
                }
            ],
            "source": [
                "def evaluate_simple_linear_regression(dataset, split=0):\n",
                "\n",
                "    test_set = list()\n",
                "    train, test = train_test_split(dataset, split)\n",
                "    \n",
                "    for row in dataset:\n",
                "        row_copy = list(row)\n",
                "        row_copy[-1] = None\n",
                "        test_set.append(row_copy)\n",
                "    \n",
                "    ###\n",
                "    ### YOUR CODE HERE\n",
                "    ###\n"
            ]
        },
        {
            "cell_type": "markdown",
            "metadata": {},
            "source": [
                "#### Step 10\n",
                "\n",
                "Visualise the dataset"
            ]
        },
        {
            "cell_type": "code",
            "execution_count": null,
            "metadata": {
                "collapsed": true
            },
            "outputs": [
                {
                    "ename": "",
                    "evalue": "",
                    "output_type": "error",
                    "traceback": [
                        "\u001b[1;31mRunning cells with 'c:\\Users\\SAQIB ANSARI\\AppData\\Local\\Programs\\Python\\Python311\\python.exe' requires the ipykernel package.\n",
                        "\u001b[1;31mRun the following command to install 'ipykernel' into the Python environment. \n",
                        "\u001b[1;31mCommand: '\"c:/Users/SAQIB ANSARI/AppData/Local/Programs/Python/Python311/python.exe\" -m pip install ipykernel -U --user --force-reinstall'"
                    ]
                }
            ],
            "source": [
                "def visualise_dataset(dataset):\n",
                "    test_set = list()\n",
                "    \n",
                "    for row in dataset:\n",
                "        row_copy = list(row)\n",
                "        row_copy[-1] = None\n",
                "        test_set.append(row_copy)\n",
                "    \n",
                "    sizes, prices = [], []\n",
                "    for i in range(len(dataset)):\n",
                "        sizes.append(dataset[i][0])\n",
                "        prices.append(dataset[i][1])\n",
                "        \n",
                "    plot.figure()\n",
                "    plot.plot(sizes, prices, 'x')\n",
                "    plot.plot(test_set, simple_linear_regression(dataset, test_set))\n",
                "    plot.xlabel('Size')\n",
                "    plot.ylabel('Price')\n",
                "    plot.grid()\n",
                "    plot.tight_layout()\n",
                "    plot.show()"
            ]
        },
        {
            "cell_type": "markdown",
            "metadata": {},
            "source": [
                "#### Step 11\n",
                "\n",
                "Seed the random value"
            ]
        },
        {
            "cell_type": "code",
            "execution_count": null,
            "metadata": {
                "collapsed": true
            },
            "outputs": [
                {
                    "ename": "",
                    "evalue": "",
                    "output_type": "error",
                    "traceback": [
                        "\u001b[1;31mRunning cells with 'c:\\Users\\SAQIB ANSARI\\AppData\\Local\\Programs\\Python\\Python311\\python.exe' requires the ipykernel package.\n",
                        "\u001b[1;31mRun the following command to install 'ipykernel' into the Python environment. \n",
                        "\u001b[1;31mCommand: '\"c:/Users/SAQIB ANSARI/AppData/Local/Programs/Python/Python311/python.exe\" -m pip install ipykernel -U --user --force-reinstall'"
                    ]
                }
            ],
            "source": [
                "seed(1)"
            ]
        },
        {
            "cell_type": "markdown",
            "metadata": {},
            "source": [
                "#### Step 12\n",
                "\n",
                "Load and prepare data"
            ]
        },
        {
            "cell_type": "code",
            "execution_count": null,
            "metadata": {
                "collapsed": true
            },
            "outputs": [
                {
                    "ename": "",
                    "evalue": "",
                    "output_type": "error",
                    "traceback": [
                        "\u001b[1;31mRunning cells with 'c:\\Users\\SAQIB ANSARI\\AppData\\Local\\Programs\\Python\\Python311\\python.exe' requires the ipykernel package.\n",
                        "\u001b[1;31mRun the following command to install 'ipykernel' into the Python environment. \n",
                        "\u001b[1;31mCommand: '\"c:/Users/SAQIB ANSARI/AppData/Local/Programs/Python/Python311/python.exe\" -m pip install ipykernel -U --user --force-reinstall'"
                    ]
                }
            ],
            "source": [
                "filename = 'fertility_rate-worker_percent.csv'\n",
                "dataset = load_csv(filename, skip=True)\n",
                "\n",
                "for i in range(len(dataset[0])):\n",
                "    string_column_to_float(dataset, i)"
            ]
        },
        {
            "cell_type": "markdown",
            "metadata": {},
            "source": [
                "#### Step 13\n",
                "\n",
                "Evaluate algorithm"
            ]
        },
        {
            "cell_type": "code",
            "execution_count": null,
            "metadata": {},
            "outputs": [
                {
                    "ename": "",
                    "evalue": "",
                    "output_type": "error",
                    "traceback": [
                        "\u001b[1;31mRunning cells with 'c:\\Users\\SAQIB ANSARI\\AppData\\Local\\Programs\\Python\\Python311\\python.exe' requires the ipykernel package.\n",
                        "\u001b[1;31mRun the following command to install 'ipykernel' into the Python environment. \n",
                        "\u001b[1;31mCommand: '\"c:/Users/SAQIB ANSARI/AppData/Local/Programs/Python/Python311/python.exe\" -m pip install ipykernel -U --user --force-reinstall'"
                    ]
                }
            ],
            "source": [
                "split = 0.6\n",
                "rmse = evaluate_simple_linear_regression(dataset, split)\n",
                "\n",
                "print('Root Mean Square Error: %.3f' % rmse)\n",
                "visualise_dataset(dataset)"
            ]
        },
        {
            "cell_type": "code",
            "execution_count": null,
            "metadata": {
                "deletable": false,
                "editable": false,
                "nbgrader": {
                    "grade": true,
                    "grade_id": "Part 2.1",
                    "locked": true,
                    "points": "1",
                    "solution": false
                }
            },
            "outputs": [
                {
                    "ename": "",
                    "evalue": "",
                    "output_type": "error",
                    "traceback": [
                        "\u001b[1;31mRunning cells with 'c:\\Users\\SAQIB ANSARI\\AppData\\Local\\Programs\\Python\\Python311\\python.exe' requires the ipykernel package.\n",
                        "\u001b[1;31mRun the following command to install 'ipykernel' into the Python environment. \n",
                        "\u001b[1;31mCommand: '\"c:/Users/SAQIB ANSARI/AppData/Local/Programs/Python/Python311/python.exe\" -m pip install ipykernel -U --user --force-reinstall'"
                    ]
                }
            ],
            "source": [
                "###\n",
                "### AUTOGRADER TEST - DO NOT REMOVE\n",
                "###\n"
            ]
        },
        {
            "cell_type": "code",
            "execution_count": null,
            "metadata": {
                "deletable": false,
                "editable": false,
                "nbgrader": {
                    "grade": true,
                    "grade_id": "Part 2.2",
                    "locked": true,
                    "points": "2",
                    "solution": false
                }
            },
            "outputs": [
                {
                    "ename": "",
                    "evalue": "",
                    "output_type": "error",
                    "traceback": [
                        "\u001b[1;31mRunning cells with 'c:\\Users\\SAQIB ANSARI\\AppData\\Local\\Programs\\Python\\Python311\\python.exe' requires the ipykernel package.\n",
                        "\u001b[1;31mRun the following command to install 'ipykernel' into the Python environment. \n",
                        "\u001b[1;31mCommand: '\"c:/Users/SAQIB ANSARI/AppData/Local/Programs/Python/Python311/python.exe\" -m pip install ipykernel -U --user --force-reinstall'"
                    ]
                }
            ],
            "source": [
                "###\n",
                "### AUTOGRADER TEST - DO NOT REMOVE\n",
                "###\n"
            ]
        },
        {
            "cell_type": "code",
            "execution_count": null,
            "metadata": {
                "deletable": false,
                "editable": false,
                "nbgrader": {
                    "grade": true,
                    "grade_id": "Part 2.3",
                    "locked": true,
                    "points": "3",
                    "solution": false
                }
            },
            "outputs": [
                {
                    "ename": "",
                    "evalue": "",
                    "output_type": "error",
                    "traceback": [
                        "\u001b[1;31mRunning cells with 'c:\\Users\\SAQIB ANSARI\\AppData\\Local\\Programs\\Python\\Python311\\python.exe' requires the ipykernel package.\n",
                        "\u001b[1;31mRun the following command to install 'ipykernel' into the Python environment. \n",
                        "\u001b[1;31mCommand: '\"c:/Users/SAQIB ANSARI/AppData/Local/Programs/Python/Python311/python.exe\" -m pip install ipykernel -U --user --force-reinstall'"
                    ]
                }
            ],
            "source": [
                "###\n",
                "### AUTOGRADER TEST - DO NOT REMOVE\n",
                "###\n"
            ]
        },
        {
            "cell_type": "markdown",
            "metadata": {},
            "source": [
                "## Programming Part 3: Logistic Regression\n",
                "\n",
                "Write a programme that can classify a digitized image of a fine needle aspirate (FNA) of a breast mass and determine whether the diagnosis is mailgnant or benign.\n",
                "\n",
                "\n",
                "### Assessment task:\n",
                "\n",
                "Write code to produce classification graphs and determine the accurary. There are 14 steps involved, you will complete the code for steps 3, 4, 5, 6, 7, 8, 10, 11 and 12 only.\n",
                "\n",
                "### Marks:\n",
                "\n",
                "This part is of 6 Marks. \n",
                "\n",
                "### Instructions:\n",
                "\n",
                "1. Write your Python code in place of \"your code here\" placeholder below.\n",
                "2. Run your code by clicking on 'run' cell in the toolbar before you submit.\n",
                "3. You will get the feedback once you submit the assignment.\n",
                "\n",
                "### Submission:\n",
                "\n",
                "Click on the submit button on the top right after you run the code."
            ]
        },
        {
            "cell_type": "markdown",
            "metadata": {},
            "source": [
                "#### Step 1\n",
                "Import the libraries."
            ]
        },
        {
            "cell_type": "code",
            "execution_count": null,
            "metadata": {
                "collapsed": true
            },
            "outputs": [
                {
                    "ename": "",
                    "evalue": "",
                    "output_type": "error",
                    "traceback": [
                        "\u001b[1;31mRunning cells with 'c:\\Users\\SAQIB ANSARI\\AppData\\Local\\Programs\\Python\\Python311\\python.exe' requires the ipykernel package.\n",
                        "\u001b[1;31mRun the following command to install 'ipykernel' into the Python environment. \n",
                        "\u001b[1;31mCommand: '\"c:/Users/SAQIB ANSARI/AppData/Local/Programs/Python/Python311/python.exe\" -m pip install ipykernel -U --user --force-reinstall'"
                    ]
                }
            ],
            "source": [
                "from random import seed\n",
                "from random import randrange\n",
                "from csv import reader\n",
                "from math import exp\n",
                "from csv import reader"
            ]
        },
        {
            "cell_type": "markdown",
            "metadata": {},
            "source": [
                "#### Step 2\n",
                "Import extra libraries, only needed for displaying the classification graph"
            ]
        },
        {
            "cell_type": "code",
            "execution_count": null,
            "metadata": {
                "collapsed": true
            },
            "outputs": [
                {
                    "ename": "",
                    "evalue": "",
                    "output_type": "error",
                    "traceback": [
                        "\u001b[1;31mRunning cells with 'c:\\Users\\SAQIB ANSARI\\AppData\\Local\\Programs\\Python\\Python311\\python.exe' requires the ipykernel package.\n",
                        "\u001b[1;31mRun the following command to install 'ipykernel' into the Python environment. \n",
                        "\u001b[1;31mCommand: '\"c:/Users/SAQIB ANSARI/AppData/Local/Programs/Python/Python311/python.exe\" -m pip install ipykernel -U --user --force-reinstall'"
                    ]
                }
            ],
            "source": [
                "import numpy as np\n",
                "import matplotlib.pyplot as plt\n",
                "from numpy.lib.arraysetops import unique"
            ]
        },
        {
            "cell_type": "markdown",
            "metadata": {},
            "source": [
                "#### Step 3\n",
                "Load a CSV file"
            ]
        },
        {
            "cell_type": "code",
            "execution_count": null,
            "metadata": {
                "collapsed": true
            },
            "outputs": [
                {
                    "ename": "",
                    "evalue": "",
                    "output_type": "error",
                    "traceback": [
                        "\u001b[1;31mRunning cells with 'c:\\Users\\SAQIB ANSARI\\AppData\\Local\\Programs\\Python\\Python311\\python.exe' requires the ipykernel package.\n",
                        "\u001b[1;31mRun the following command to install 'ipykernel' into the Python environment. \n",
                        "\u001b[1;31mCommand: '\"c:/Users/SAQIB ANSARI/AppData/Local/Programs/Python/Python311/python.exe\" -m pip install ipykernel -U --user --force-reinstall'"
                    ]
                }
            ],
            "source": [
                "def load_csv(filename, skip = False):\n",
                "\n",
                "    dataset = list()\n",
                "    # Opens the file in read only mode\n",
                "    \n",
                "     \n",
                "    with open(filename, 'r') as file:\n",
                "        csv_reader = reader(file)\n",
                "        \n",
                "        # Skip the header, if needed\n",
                "        ###\n",
                "        ### YOUR CODE HERE\n",
                "        ###\n"
            ]
        },
        {
            "cell_type": "markdown",
            "metadata": {},
            "source": [
                "#### Step 4\n",
                "Convert string diagnosis to number\n",
                "\n",
                "Assign the diagnosis of mailgnant (M) to 0 and assign the diagnosis of benign (B) to 1"
            ]
        },
        {
            "cell_type": "code",
            "execution_count": null,
            "metadata": {
                "collapsed": true
            },
            "outputs": [
                {
                    "ename": "",
                    "evalue": "",
                    "output_type": "error",
                    "traceback": [
                        "\u001b[1;31mRunning cells with 'c:\\Users\\SAQIB ANSARI\\AppData\\Local\\Programs\\Python\\Python311\\python.exe' requires the ipykernel package.\n",
                        "\u001b[1;31mRun the following command to install 'ipykernel' into the Python environment. \n",
                        "\u001b[1;31mCommand: '\"c:/Users/SAQIB ANSARI/AppData/Local/Programs/Python/Python311/python.exe\" -m pip install ipykernel -U --user --force-reinstall'"
                    ]
                }
            ],
            "source": [
                "def diagnosis_column_to_number(dataset, column):\n",
                "    ###\n",
                "    ### YOUR CODE HERE\n",
                "    ###\n"
            ]
        },
        {
            "cell_type": "markdown",
            "metadata": {},
            "source": [
                "#### Step 5\n",
                "Extract only the x data"
            ]
        },
        {
            "cell_type": "code",
            "execution_count": null,
            "metadata": {
                "collapsed": true
            },
            "outputs": [
                {
                    "ename": "",
                    "evalue": "",
                    "output_type": "error",
                    "traceback": [
                        "\u001b[1;31mRunning cells with 'c:\\Users\\SAQIB ANSARI\\AppData\\Local\\Programs\\Python\\Python311\\python.exe' requires the ipykernel package.\n",
                        "\u001b[1;31mRun the following command to install 'ipykernel' into the Python environment. \n",
                        "\u001b[1;31mCommand: '\"c:/Users/SAQIB ANSARI/AppData/Local/Programs/Python/Python311/python.exe\" -m pip install ipykernel -U --user --force-reinstall'"
                    ]
                }
            ],
            "source": [
                "def extract_only_x_data(dataset):\n",
                "    data = list()\n",
                "    ###\n",
                "    ### YOUR CODE HERE\n",
                "    ###\n",
                "\n",
                "    return data"
            ]
        },
        {
            "cell_type": "markdown",
            "metadata": {},
            "source": [
                "#### Step 6\n",
                "Extract only the y data"
            ]
        },
        {
            "cell_type": "code",
            "execution_count": null,
            "metadata": {
                "collapsed": true
            },
            "outputs": [
                {
                    "ename": "",
                    "evalue": "",
                    "output_type": "error",
                    "traceback": [
                        "\u001b[1;31mRunning cells with 'c:\\Users\\SAQIB ANSARI\\AppData\\Local\\Programs\\Python\\Python311\\python.exe' requires the ipykernel package.\n",
                        "\u001b[1;31mRun the following command to install 'ipykernel' into the Python environment. \n",
                        "\u001b[1;31mCommand: '\"c:/Users/SAQIB ANSARI/AppData/Local/Programs/Python/Python311/python.exe\" -m pip install ipykernel -U --user --force-reinstall'"
                    ]
                }
            ],
            "source": [
                "def extract_only_y_data(dataset):\n",
                "    data = list()\n",
                "    ###\n",
                "    ### YOUR CODE HERE\n",
                "    ###\n",
                "\n",
                "    return data"
            ]
        },
        {
            "cell_type": "markdown",
            "metadata": {},
            "source": [
                "#### Step 7\n",
                "Define sigmoid function"
            ]
        },
        {
            "cell_type": "code",
            "execution_count": null,
            "metadata": {
                "collapsed": true
            },
            "outputs": [
                {
                    "ename": "",
                    "evalue": "",
                    "output_type": "error",
                    "traceback": [
                        "\u001b[1;31mRunning cells with 'c:\\Users\\SAQIB ANSARI\\AppData\\Local\\Programs\\Python\\Python311\\python.exe' requires the ipykernel package.\n",
                        "\u001b[1;31mRun the following command to install 'ipykernel' into the Python environment. \n",
                        "\u001b[1;31mCommand: '\"c:/Users/SAQIB ANSARI/AppData/Local/Programs/Python/Python311/python.exe\" -m pip install ipykernel -U --user --force-reinstall'"
                    ]
                }
            ],
            "source": [
                "def sigmoid(z):\n",
                "###\n",
                "### YOUR CODE HERE\n",
                "###\n",
                "    # Return the value of the implemented sigmoid function, do not simply return z\n",
                "    return z"
            ]
        },
        {
            "cell_type": "markdown",
            "metadata": {},
            "source": [
                "#### Step 8\n",
                "Define loss function"
            ]
        },
        {
            "cell_type": "code",
            "execution_count": null,
            "metadata": {
                "collapsed": true
            },
            "outputs": [
                {
                    "ename": "",
                    "evalue": "",
                    "output_type": "error",
                    "traceback": [
                        "\u001b[1;31mRunning cells with 'c:\\Users\\SAQIB ANSARI\\AppData\\Local\\Programs\\Python\\Python311\\python.exe' requires the ipykernel package.\n",
                        "\u001b[1;31mRun the following command to install 'ipykernel' into the Python environment. \n",
                        "\u001b[1;31mCommand: '\"c:/Users/SAQIB ANSARI/AppData/Local/Programs/Python/Python311/python.exe\" -m pip install ipykernel -U --user --force-reinstall'"
                    ]
                }
            ],
            "source": [
                "def loss(y, y_hat):\n",
                "###\n",
                "### YOUR CODE HERE\n",
                "###\n",
                "\n",
                "    return loss"
            ]
        },
        {
            "cell_type": "markdown",
            "metadata": {},
            "source": [
                "#### Step 9\n",
                "Define gradients function"
            ]
        },
        {
            "cell_type": "code",
            "execution_count": null,
            "metadata": {
                "collapsed": true
            },
            "outputs": [
                {
                    "ename": "",
                    "evalue": "",
                    "output_type": "error",
                    "traceback": [
                        "\u001b[1;31mRunning cells with 'c:\\Users\\SAQIB ANSARI\\AppData\\Local\\Programs\\Python\\Python311\\python.exe' requires the ipykernel package.\n",
                        "\u001b[1;31mRun the following command to install 'ipykernel' into the Python environment. \n",
                        "\u001b[1;31mCommand: '\"c:/Users/SAQIB ANSARI/AppData/Local/Programs/Python/Python311/python.exe\" -m pip install ipykernel -U --user --force-reinstall'"
                    ]
                }
            ],
            "source": [
                "def gradients(X, y, y_hat):\n",
                "    \n",
                "    # X Input.\n",
                "    # y true/target value.\n",
                "    # y_hat predictions.\n",
                "    # w weights.\n",
                "    # b bias.\n",
                "    \n",
                "    # number of training examples.\n",
                "    numner_of_examples = X.shape[0]\n",
                "    \n",
                "    # Gradient of loss weights.\n",
                "    dw = (1/numner_of_examples)*np.dot(X.T, (y_hat - y))\n",
                "    \n",
                "    # Gradient of loss bias.\n",
                "    db = (1/numner_of_examples)*np.sum((y_hat - y)) \n",
                "    \n",
                "    return dw, db"
            ]
        },
        {
            "cell_type": "markdown",
            "metadata": {},
            "source": [
                "#### Step 10\n",
                "Train the dataset"
            ]
        },
        {
            "cell_type": "code",
            "execution_count": null,
            "metadata": {
                "collapsed": true
            },
            "outputs": [
                {
                    "ename": "",
                    "evalue": "",
                    "output_type": "error",
                    "traceback": [
                        "\u001b[1;31mRunning cells with 'c:\\Users\\SAQIB ANSARI\\AppData\\Local\\Programs\\Python\\Python311\\python.exe' requires the ipykernel package.\n",
                        "\u001b[1;31mRun the following command to install 'ipykernel' into the Python environment. \n",
                        "\u001b[1;31mCommand: '\"c:/Users/SAQIB ANSARI/AppData/Local/Programs/Python/Python311/python.exe\" -m pip install ipykernel -U --user --force-reinstall'"
                    ]
                }
            ],
            "source": [
                "def train(X, y, batch_size, epochs, learning_rate):\n",
                "    \n",
                "    # X Input.\n",
                "    # y true/target value.\n",
                "    # batch_size Batch Size.\n",
                "    # epochs Number of iterations.\n",
                "    # learning_rate Learning rate.\n",
                "        \n",
                "    # number of training examples\n",
                "    # number of features \n",
                "    numner_of_examples, numner_of_features = X.shape\n",
                "    \n",
                "    # Initializing weights and bias to zeros.\n",
                "    weights = np.zeros((numner_of_features,1))\n",
                "    bias = 0\n",
                "    \n",
                "    # Reshaping y.\n",
                "    y = y.reshape(numner_of_examples,1)\n",
                "    \n",
                "    # Empty list to store losses.\n",
                "    losses = []\n",
                "    \n",
                "    # Training loop.\n",
                "    for epoch in range(epochs):\n",
                "        for i in range((numner_of_examples-1)//batch_size + 1):\n",
                "            \n",
                "            # Defining batches. SGD.\n",
                "            start_i = i * batch_size\n",
                "            end_i = start_i + batch_size\n",
                "            xb = X[start_i:end_i]\n",
                "            yb = y[start_i:end_i]\n",
                "            \n",
                "            # Calculating hypothesis/prediction.\n",
                "            y_hat = sigmoid(np.dot(xb, weights) + bias)\n",
                "            print(y_hat)\n",
                "            \n",
                "            # Getting the gradients of loss w.r.t parameters.\n",
                "            dw, db = gradients(xb, yb, y_hat)\n",
                "            \n",
                "            # Updating the parameters.\n",
                "            ###\n",
                "            ### YOUR CODE HERE\n",
                "            ###\n",
                "        \n",
                "        # Calculating loss and appending it in the list.\n",
                "        l = loss(y, sigmoid(np.dot(X, weights) + bias))\n",
                "        losses.append(l)\n",
                "        \n",
                "    # returning weights, bias and losses(List).\n",
                "    return weights, bias, losses"
            ]
        },
        {
            "cell_type": "markdown",
            "metadata": {},
            "source": [
                "#### Step 11\n",
                "Make the prediction"
            ]
        },
        {
            "cell_type": "code",
            "execution_count": null,
            "metadata": {
                "collapsed": true
            },
            "outputs": [
                {
                    "ename": "",
                    "evalue": "",
                    "output_type": "error",
                    "traceback": [
                        "\u001b[1;31mRunning cells with 'c:\\Users\\SAQIB ANSARI\\AppData\\Local\\Programs\\Python\\Python311\\python.exe' requires the ipykernel package.\n",
                        "\u001b[1;31mRun the following command to install 'ipykernel' into the Python environment. \n",
                        "\u001b[1;31mCommand: '\"c:/Users/SAQIB ANSARI/AppData/Local/Programs/Python/Python311/python.exe\" -m pip install ipykernel -U --user --force-reinstall'"
                    ]
                }
            ],
            "source": [
                "def predict(X, w, b):\n",
                "    \n",
                "    # X Input.\n",
                "    \n",
                "    # Calculating presictions/y_hat.\n",
                "    preds = sigmoid(np.dot(X, w) + b)\n",
                "    \n",
                "    # Empty List to store predictions.\n",
                "    pred_class = []\n",
                "    \n",
                "    # DELETE the following two lines and replace it with your own code\n",
                "    # Otherwise leaving this code will pollute your predictions \n",
                "    for i in preds:\n",
                "        pred_class.append(0)\n",
                "        \n",
                "    # if y_hat >= 0.5 round up to 1\n",
                "    # if y_hat < 0.5 round down to 0\n",
                "    \n",
                "###\n",
                "### YOUR CODE HERE\n",
                "###\n",
                "    \n",
                "    return np.array(pred_class)"
            ]
        },
        {
            "cell_type": "markdown",
            "metadata": {},
            "source": [
                "#### Step 12\n",
                "Obtain the accuracy"
            ]
        },
        {
            "cell_type": "code",
            "execution_count": null,
            "metadata": {
                "collapsed": true
            },
            "outputs": [
                {
                    "ename": "",
                    "evalue": "",
                    "output_type": "error",
                    "traceback": [
                        "\u001b[1;31mRunning cells with 'c:\\Users\\SAQIB ANSARI\\AppData\\Local\\Programs\\Python\\Python311\\python.exe' requires the ipykernel package.\n",
                        "\u001b[1;31mRun the following command to install 'ipykernel' into the Python environment. \n",
                        "\u001b[1;31mCommand: '\"c:/Users/SAQIB ANSARI/AppData/Local/Programs/Python/Python311/python.exe\" -m pip install ipykernel -U --user --force-reinstall'"
                    ]
                }
            ],
            "source": [
                "def accuracy(y, y_hat):\n",
                "    accuracy = 0\n",
                "###\n",
                "### YOUR CODE HERE\n",
                "###\n",
                "    return accuracy"
            ]
        },
        {
            "cell_type": "markdown",
            "metadata": {},
            "source": [
                "#### Step 13\n",
                "Output the plot"
            ]
        },
        {
            "cell_type": "code",
            "execution_count": null,
            "metadata": {
                "collapsed": true
            },
            "outputs": [
                {
                    "ename": "",
                    "evalue": "",
                    "output_type": "error",
                    "traceback": [
                        "\u001b[1;31mRunning cells with 'c:\\Users\\SAQIB ANSARI\\AppData\\Local\\Programs\\Python\\Python311\\python.exe' requires the ipykernel package.\n",
                        "\u001b[1;31mRun the following command to install 'ipykernel' into the Python environment. \n",
                        "\u001b[1;31mCommand: '\"c:/Users/SAQIB ANSARI/AppData/Local/Programs/Python/Python311/python.exe\" -m pip install ipykernel -U --user --force-reinstall'"
                    ]
                }
            ],
            "source": [
                "def plot_decision_boundary(X, w, b):\n",
                "    \n",
                "    # X Inputs\n",
                "    # w weights\n",
                "    # b bias\n",
                "    \n",
                "    fig = plt.figure(figsize=(10,8))\n",
                "    plt.plot(X[:, 0][y==0], X[:, 1][y==0], \"g^\")\n",
                "    plt.plot(X[:, 0][y==1], X[:, 1][y==1], \"bs\")\n",
                "    plt.xlim([-2, 2])\n",
                "    plt.ylim([0, 2.2])\n",
                "    plt.xlabel(\"feature 1\")\n",
                "    plt.ylabel(\"feature 2\")\n",
                "    plt.title('Decision Boundary')\n",
                "    \n",
                "    # The Line is y=mx+c\n",
                "    # So, Equate mx+c = w.X + b\n",
                "    # Solving we find m and c\n",
                "    x1 = [min(X[:,0]), max(X[:,0])]\n",
                "    \n",
                "    if(w[1] != 0):\n",
                "        m = -w[0]/w[1]\n",
                "        c = -b/w[1]\n",
                "        x2 = m*x1 + c\n",
                "        plt.plot(x1, x2, 'y-')\n",
                "    \n",
                "    plt.show()"
            ]
        },
        {
            "cell_type": "markdown",
            "metadata": {},
            "source": [
                "#### Step 14\n",
                "Evaluate algorithm"
            ]
        },
        {
            "cell_type": "code",
            "execution_count": null,
            "metadata": {
                "collapsed": true
            },
            "outputs": [
                {
                    "ename": "",
                    "evalue": "",
                    "output_type": "error",
                    "traceback": [
                        "\u001b[1;31mRunning cells with 'c:\\Users\\SAQIB ANSARI\\AppData\\Local\\Programs\\Python\\Python311\\python.exe' requires the ipykernel package.\n",
                        "\u001b[1;31mRun the following command to install 'ipykernel' into the Python environment. \n",
                        "\u001b[1;31mCommand: '\"c:/Users/SAQIB ANSARI/AppData/Local/Programs/Python/Python311/python.exe\" -m pip install ipykernel -U --user --force-reinstall'"
                    ]
                }
            ],
            "source": [
                "filename = 'breast_cancer_data.csv'\n",
                "dataset = load_csv(filename, skip=True)\n",
                "\n",
                "diagnosis_column_to_number(dataset, 2)\n",
                "\n",
                "X_train_data = extract_only_x_data(dataset)\n",
                "y_train_data = extract_only_y_data(dataset)\n",
                "\n",
                "X = np.array(X_train_data)\n",
                "y = np.array(y_train_data)\n",
                "\n",
                "\n",
                "# Training \n",
                "w, b, l = train(X, y, batch_size=100, epochs=1000, learning_rate=0.01)\n",
                "# Plotting Decision Boundary\n",
                "plot_decision_boundary(X, w, b)\n",
                "\n",
                "accuracy(y, y_hat=predict(X, w, b))"
            ]
        },
        {
            "cell_type": "code",
            "execution_count": null,
            "metadata": {
                "collapsed": true,
                "deletable": false,
                "editable": false,
                "nbgrader": {
                    "grade": true,
                    "grade_id": "Part 3.1",
                    "locked": true,
                    "points": "3",
                    "solution": false
                }
            },
            "outputs": [
                {
                    "ename": "",
                    "evalue": "",
                    "output_type": "error",
                    "traceback": [
                        "\u001b[1;31mRunning cells with 'c:\\Users\\SAQIB ANSARI\\AppData\\Local\\Programs\\Python\\Python311\\python.exe' requires the ipykernel package.\n",
                        "\u001b[1;31mRun the following command to install 'ipykernel' into the Python environment. \n",
                        "\u001b[1;31mCommand: '\"c:/Users/SAQIB ANSARI/AppData/Local/Programs/Python/Python311/python.exe\" -m pip install ipykernel -U --user --force-reinstall'"
                    ]
                }
            ],
            "source": [
                "###\n",
                "### AUTOGRADER TEST - DO NOT REMOVE\n",
                "###\n"
            ]
        },
        {
            "cell_type": "code",
            "execution_count": null,
            "metadata": {
                "collapsed": true,
                "deletable": false,
                "editable": false,
                "nbgrader": {
                    "grade": true,
                    "grade_id": "Part 3.2",
                    "locked": true,
                    "points": "3",
                    "solution": false
                }
            },
            "outputs": [
                {
                    "ename": "",
                    "evalue": "",
                    "output_type": "error",
                    "traceback": [
                        "\u001b[1;31mRunning cells with 'c:\\Users\\SAQIB ANSARI\\AppData\\Local\\Programs\\Python\\Python311\\python.exe' requires the ipykernel package.\n",
                        "\u001b[1;31mRun the following command to install 'ipykernel' into the Python environment. \n",
                        "\u001b[1;31mCommand: '\"c:/Users/SAQIB ANSARI/AppData/Local/Programs/Python/Python311/python.exe\" -m pip install ipykernel -U --user --force-reinstall'"
                    ]
                }
            ],
            "source": [
                "###\n",
                "### AUTOGRADER TEST - DO NOT REMOVE\n",
                "###\n"
            ]
        },
        {
            "cell_type": "markdown",
            "metadata": {},
            "source": [
                "## Programming Part 4: Regularisation\n",
                "\n",
                "Write a programme that potentially improves the previous linear regression using regularisation.\n",
                "\n",
                "\n",
                "### Assessment task:\n",
                "\n",
                "Write code to improve the previous linear regression using a elastic net regularisation. There are 12 steps involved, you will complete the code for steps 2, 4, 5, 6 and 7 only.\n",
                "\n",
                "### Marks:\n",
                "\n",
                "This part is of 6 Marks.\n",
                "\n",
                "### Instructions:\n",
                "\n",
                "1. Write your Python code in place of \"your code here\" placeholder below.\n",
                "2. Run your code by clicking on 'run' cell in the toolbar before you submit.\n",
                "3. You will get the feedback once you submit the assignment.\n",
                "\n",
                "### Submission:\n",
                "\n",
                "Click on the submit button on the top right after you run the code."
            ]
        },
        {
            "cell_type": "markdown",
            "metadata": {
                "deletable": false,
                "editable": false,
                "nbgrader": {
                    "grade": false,
                    "locked": true,
                    "solution": false
                }
            },
            "source": [
                "#### Step 1\n",
                "\n",
                "Import the needed libraries."
            ]
        },
        {
            "cell_type": "code",
            "execution_count": null,
            "metadata": {
                "collapsed": true
            },
            "outputs": [
                {
                    "ename": "",
                    "evalue": "",
                    "output_type": "error",
                    "traceback": [
                        "\u001b[1;31mRunning cells with 'c:\\Users\\SAQIB ANSARI\\AppData\\Local\\Programs\\Python\\Python311\\python.exe' requires the ipykernel package.\n",
                        "\u001b[1;31mRun the following command to install 'ipykernel' into the Python environment. \n",
                        "\u001b[1;31mCommand: '\"c:/Users/SAQIB ANSARI/AppData/Local/Programs/Python/Python311/python.exe\" -m pip install ipykernel -U --user --force-reinstall'"
                    ]
                }
            ],
            "source": [
                "from math import sqrt\n",
                "from matplotlib import pyplot as plot\n",
                "from random import seed\n",
                "from random import randrange\n",
                "from csv import reader\n",
                "import numpy as np"
            ]
        },
        {
            "cell_type": "markdown",
            "metadata": {
                "deletable": false,
                "editable": false,
                "nbgrader": {
                    "grade": false,
                    "locked": true,
                    "solution": false
                }
            },
            "source": [
                "#### Step 2\n",
                "\n",
                "Load a CSV file"
            ]
        },
        {
            "cell_type": "code",
            "execution_count": null,
            "metadata": {
                "collapsed": true
            },
            "outputs": [
                {
                    "ename": "",
                    "evalue": "",
                    "output_type": "error",
                    "traceback": [
                        "\u001b[1;31mRunning cells with 'c:\\Users\\SAQIB ANSARI\\AppData\\Local\\Programs\\Python\\Python311\\python.exe' requires the ipykernel package.\n",
                        "\u001b[1;31mRun the following command to install 'ipykernel' into the Python environment. \n",
                        "\u001b[1;31mCommand: '\"c:/Users/SAQIB ANSARI/AppData/Local/Programs/Python/Python311/python.exe\" -m pip install ipykernel -U --user --force-reinstall'"
                    ]
                }
            ],
            "source": [
                "def load_csv(filename, skip = False):\n",
                "###\n",
                "### YOUR CODE HERE\n",
                "###\n"
            ]
        },
        {
            "cell_type": "markdown",
            "metadata": {
                "deletable": false,
                "editable": false,
                "nbgrader": {
                    "grade": false,
                    "locked": true,
                    "solution": false
                }
            },
            "source": [
                "#### Step 3\n",
                "\n",
                "Convert string column to float"
            ]
        },
        {
            "cell_type": "code",
            "execution_count": null,
            "metadata": {
                "collapsed": true
            },
            "outputs": [
                {
                    "ename": "",
                    "evalue": "",
                    "output_type": "error",
                    "traceback": [
                        "\u001b[1;31mRunning cells with 'c:\\Users\\SAQIB ANSARI\\AppData\\Local\\Programs\\Python\\Python311\\python.exe' requires the ipykernel package.\n",
                        "\u001b[1;31mRun the following command to install 'ipykernel' into the Python environment. \n",
                        "\u001b[1;31mCommand: '\"c:/Users/SAQIB ANSARI/AppData/Local/Programs/Python/Python311/python.exe\" -m pip install ipykernel -U --user --force-reinstall'"
                    ]
                }
            ],
            "source": [
                "def string_column_to_float(dataset, column):\n",
                "    for row in dataset:\n",
                "        # The strip() function remove white space\n",
                "        # then convert the data into a decimal number (float)\n",
                "        # and overwrite the original data\n",
                "        row[column] = float(row[column].strip())"
            ]
        },
        {
            "cell_type": "markdown",
            "metadata": {
                "deletable": false,
                "editable": false,
                "nbgrader": {
                    "grade": false,
                    "locked": true,
                    "solution": false
                }
            },
            "source": [
                "#### Step 4\n",
                "\n",
                "Make Prediction"
            ]
        },
        {
            "cell_type": "code",
            "execution_count": null,
            "metadata": {
                "collapsed": true
            },
            "outputs": [
                {
                    "ename": "",
                    "evalue": "",
                    "output_type": "error",
                    "traceback": [
                        "\u001b[1;31mRunning cells with 'c:\\Users\\SAQIB ANSARI\\AppData\\Local\\Programs\\Python\\Python311\\python.exe' requires the ipykernel package.\n",
                        "\u001b[1;31mRun the following command to install 'ipykernel' into the Python environment. \n",
                        "\u001b[1;31mCommand: '\"c:/Users/SAQIB ANSARI/AppData/Local/Programs/Python/Python311/python.exe\" -m pip install ipykernel -U --user --force-reinstall'"
                    ]
                }
            ],
            "source": [
                "def predict(X, b, W) :\n",
                "###\n",
                "### YOUR CODE HERE\n",
                "###\n"
            ]
        },
        {
            "cell_type": "markdown",
            "metadata": {
                "deletable": false,
                "editable": false,
                "nbgrader": {
                    "grade": false,
                    "locked": true,
                    "solution": false
                }
            },
            "source": [
                "#### Step 5\n",
                "\n",
                "Update the weights with the gradients and L2 penality"
            ]
        },
        {
            "cell_type": "code",
            "execution_count": null,
            "metadata": {
                "collapsed": true
            },
            "outputs": [
                {
                    "ename": "",
                    "evalue": "",
                    "output_type": "error",
                    "traceback": [
                        "\u001b[1;31mRunning cells with 'c:\\Users\\SAQIB ANSARI\\AppData\\Local\\Programs\\Python\\Python311\\python.exe' requires the ipykernel package.\n",
                        "\u001b[1;31mRun the following command to install 'ipykernel' into the Python environment. \n",
                        "\u001b[1;31mCommand: '\"c:/Users/SAQIB ANSARI/AppData/Local/Programs/Python/Python311/python.exe\" -m pip install ipykernel -U --user --force-reinstall'"
                    ]
                }
            ],
            "source": [
                "def update_weights(X, Y, b, W, no_of_training_examples, learning_rate, l2_penality):\n",
                "###\n",
                "### YOUR CODE HERE\n",
                "###\n"
            ]
        },
        {
            "cell_type": "markdown",
            "metadata": {},
            "source": [
                "#### Step 6\n",
                "\n",
                "Linear Regression with L2 (Ridge) Regularisation"
            ]
        },
        {
            "cell_type": "code",
            "execution_count": null,
            "metadata": {
                "collapsed": true
            },
            "outputs": [
                {
                    "ename": "",
                    "evalue": "",
                    "output_type": "error",
                    "traceback": [
                        "\u001b[1;31mRunning cells with 'c:\\Users\\SAQIB ANSARI\\AppData\\Local\\Programs\\Python\\Python311\\python.exe' requires the ipykernel package.\n",
                        "\u001b[1;31mRun the following command to install 'ipykernel' into the Python environment. \n",
                        "\u001b[1;31mCommand: '\"c:/Users/SAQIB ANSARI/AppData/Local/Programs/Python/Python311/python.exe\" -m pip install ipykernel -U --user --force-reinstall'"
                    ]
                }
            ],
            "source": [
                "def ridge_regression(X, Y, iterations = 1000, learning_rate = 0.01, l2_penality = 1):\n",
                "###\n",
                "### YOUR CODE HERE\n",
                "###\n"
            ]
        },
        {
            "cell_type": "markdown",
            "metadata": {},
            "source": [
                "#### Step 7\n",
                "\n",
                "Split the data into training and test sets"
            ]
        },
        {
            "cell_type": "code",
            "execution_count": null,
            "metadata": {
                "collapsed": true
            },
            "outputs": [
                {
                    "ename": "",
                    "evalue": "",
                    "output_type": "error",
                    "traceback": [
                        "\u001b[1;31mRunning cells with 'c:\\Users\\SAQIB ANSARI\\AppData\\Local\\Programs\\Python\\Python311\\python.exe' requires the ipykernel package.\n",
                        "\u001b[1;31mRun the following command to install 'ipykernel' into the Python environment. \n",
                        "\u001b[1;31mCommand: '\"c:/Users/SAQIB ANSARI/AppData/Local/Programs/Python/Python311/python.exe\" -m pip install ipykernel -U --user --force-reinstall'"
                    ]
                }
            ],
            "source": [
                "def train_test_split(dataset, split):\n",
                "###\n",
                "### YOUR CODE HERE\n",
                "###\n",
                "        \n",
                "    return X_train, Y_train, X_test, Y_test"
            ]
        },
        {
            "cell_type": "markdown",
            "metadata": {},
            "source": [
                "#### Step 8\n",
                "\n",
                "Perform regression algorithm on dataset"
            ]
        },
        {
            "cell_type": "code",
            "execution_count": null,
            "metadata": {
                "collapsed": true
            },
            "outputs": [
                {
                    "ename": "",
                    "evalue": "",
                    "output_type": "error",
                    "traceback": [
                        "\u001b[1;31mRunning cells with 'c:\\Users\\SAQIB ANSARI\\AppData\\Local\\Programs\\Python\\Python311\\python.exe' requires the ipykernel package.\n",
                        "\u001b[1;31mRun the following command to install 'ipykernel' into the Python environment. \n",
                        "\u001b[1;31mCommand: '\"c:/Users/SAQIB ANSARI/AppData/Local/Programs/Python/Python311/python.exe\" -m pip install ipykernel -U --user --force-reinstall'"
                    ]
                }
            ],
            "source": [
                "def evaluate_ridge_regression(dataset, split):\n",
                "    \n",
                "    # Spilt the data in training and test sets\n",
                "    # And split further in X_train, Y_train, X_test, Y_test    \n",
                "\n",
                "    X_train, Y_train, X_test, Y_test = train_test_split(dataset, split)\n",
                "\n",
                "    # Train the model\n",
                "        \n",
                "    b, W = ridge_regression(X_train, Y_train, iterations = 10000, l2_penality = 0.001)\n",
                "    \n",
                "    # Make a prediction with the model\n",
                "    \n",
                "    yhat = predict(X_test, b, W)\n",
                "    \n",
                "    print(W)\n",
                "        \n",
                "    print( \"Predicted values \", np.round( yhat[:3], 2 ) )\n",
                "    print( \"Real values      \", Y_test[:3] ) \n",
                "    print( \"Trained W        \", round( W[0], 2 ) )    \n",
                "    print( \"Trained b        \", round( b, 2 ) )\n",
                "    \n",
                "    visualise(X_test, Y_test, yhat)"
            ]
        },
        {
            "cell_type": "markdown",
            "metadata": {},
            "source": [
                "#### Step 9\n",
                "\n",
                "Visualise the results"
            ]
        },
        {
            "cell_type": "code",
            "execution_count": null,
            "metadata": {
                "collapsed": true
            },
            "outputs": [
                {
                    "ename": "",
                    "evalue": "",
                    "output_type": "error",
                    "traceback": [
                        "\u001b[1;31mRunning cells with 'c:\\Users\\SAQIB ANSARI\\AppData\\Local\\Programs\\Python\\Python311\\python.exe' requires the ipykernel package.\n",
                        "\u001b[1;31mRun the following command to install 'ipykernel' into the Python environment. \n",
                        "\u001b[1;31mCommand: '\"c:/Users/SAQIB ANSARI/AppData/Local/Programs/Python/Python311/python.exe\" -m pip install ipykernel -U --user --force-reinstall'"
                    ]
                }
            ],
            "source": [
                "def visualise(X_test, Y_test, yhat):\n",
                "    plot.scatter( X_test, Y_test, color = 'blue' )    \n",
                "    plot.plot( X_test, yhat, color = 'orange' )    \n",
                "    plot.title( 'Fertility Rate vs Worker Percentage' )    \n",
                "    plot.xlabel('Fertility Rate')\n",
                "    plot.ylabel('Worker Percentage')\n",
                "    plot.show()"
            ]
        },
        {
            "cell_type": "markdown",
            "metadata": {},
            "source": [
                "#### Step 10\n",
                "\n",
                "Seed the random value"
            ]
        },
        {
            "cell_type": "code",
            "execution_count": null,
            "metadata": {
                "collapsed": true
            },
            "outputs": [
                {
                    "ename": "",
                    "evalue": "",
                    "output_type": "error",
                    "traceback": [
                        "\u001b[1;31mRunning cells with 'c:\\Users\\SAQIB ANSARI\\AppData\\Local\\Programs\\Python\\Python311\\python.exe' requires the ipykernel package.\n",
                        "\u001b[1;31mRun the following command to install 'ipykernel' into the Python environment. \n",
                        "\u001b[1;31mCommand: '\"c:/Users/SAQIB ANSARI/AppData/Local/Programs/Python/Python311/python.exe\" -m pip install ipykernel -U --user --force-reinstall'"
                    ]
                }
            ],
            "source": [
                "seed(1)"
            ]
        },
        {
            "cell_type": "markdown",
            "metadata": {},
            "source": [
                "#### Step 11\n",
                "\n",
                "Load and prepare data"
            ]
        },
        {
            "cell_type": "code",
            "execution_count": null,
            "metadata": {
                "collapsed": true
            },
            "outputs": [
                {
                    "ename": "",
                    "evalue": "",
                    "output_type": "error",
                    "traceback": [
                        "\u001b[1;31mRunning cells with 'c:\\Users\\SAQIB ANSARI\\AppData\\Local\\Programs\\Python\\Python311\\python.exe' requires the ipykernel package.\n",
                        "\u001b[1;31mRun the following command to install 'ipykernel' into the Python environment. \n",
                        "\u001b[1;31mCommand: '\"c:/Users/SAQIB ANSARI/AppData/Local/Programs/Python/Python311/python.exe\" -m pip install ipykernel -U --user --force-reinstall'"
                    ]
                }
            ],
            "source": [
                "filename = 'fertility_rate-worker_percent.csv'\n",
                "dataset = load_csv(filename, skip=True)\n",
                "\n",
                "for i in range(len(dataset[0])):\n",
                "    string_column_to_float(dataset, i)"
            ]
        },
        {
            "cell_type": "markdown",
            "metadata": {},
            "source": [
                "#### Step 12\n",
                "\n",
                "Evaluate regression algorithm on training dataset"
            ]
        },
        {
            "cell_type": "code",
            "execution_count": null,
            "metadata": {
                "collapsed": true
            },
            "outputs": [
                {
                    "ename": "",
                    "evalue": "",
                    "output_type": "error",
                    "traceback": [
                        "\u001b[1;31mRunning cells with 'c:\\Users\\SAQIB ANSARI\\AppData\\Local\\Programs\\Python\\Python311\\python.exe' requires the ipykernel package.\n",
                        "\u001b[1;31mRun the following command to install 'ipykernel' into the Python environment. \n",
                        "\u001b[1;31mCommand: '\"c:/Users/SAQIB ANSARI/AppData/Local/Programs/Python/Python311/python.exe\" -m pip install ipykernel -U --user --force-reinstall'"
                    ]
                }
            ],
            "source": [
                "split = 0.66\n",
                "\n",
                "evaluate_ridge_regression(dataset, split)"
            ]
        },
        {
            "cell_type": "code",
            "execution_count": null,
            "metadata": {
                "collapsed": true,
                "deletable": false,
                "editable": false,
                "nbgrader": {
                    "grade": true,
                    "grade_id": "Part 4.1",
                    "locked": true,
                    "points": "0.5",
                    "solution": false
                }
            },
            "outputs": [
                {
                    "ename": "",
                    "evalue": "",
                    "output_type": "error",
                    "traceback": [
                        "\u001b[1;31mRunning cells with 'c:\\Users\\SAQIB ANSARI\\AppData\\Local\\Programs\\Python\\Python311\\python.exe' requires the ipykernel package.\n",
                        "\u001b[1;31mRun the following command to install 'ipykernel' into the Python environment. \n",
                        "\u001b[1;31mCommand: '\"c:/Users/SAQIB ANSARI/AppData/Local/Programs/Python/Python311/python.exe\" -m pip install ipykernel -U --user --force-reinstall'"
                    ]
                }
            ],
            "source": [
                "###\n",
                "### AUTOGRADER TEST - DO NOT REMOVE\n",
                "###\n"
            ]
        },
        {
            "cell_type": "code",
            "execution_count": null,
            "metadata": {
                "collapsed": true,
                "deletable": false,
                "editable": false,
                "nbgrader": {
                    "grade": true,
                    "grade_id": "Part 4.2",
                    "locked": true,
                    "points": "0.5",
                    "solution": false
                }
            },
            "outputs": [
                {
                    "ename": "",
                    "evalue": "",
                    "output_type": "error",
                    "traceback": [
                        "\u001b[1;31mRunning cells with 'c:\\Users\\SAQIB ANSARI\\AppData\\Local\\Programs\\Python\\Python311\\python.exe' requires the ipykernel package.\n",
                        "\u001b[1;31mRun the following command to install 'ipykernel' into the Python environment. \n",
                        "\u001b[1;31mCommand: '\"c:/Users/SAQIB ANSARI/AppData/Local/Programs/Python/Python311/python.exe\" -m pip install ipykernel -U --user --force-reinstall'"
                    ]
                }
            ],
            "source": [
                "###\n",
                "### AUTOGRADER TEST - DO NOT REMOVE\n",
                "###\n"
            ]
        },
        {
            "cell_type": "code",
            "execution_count": null,
            "metadata": {
                "collapsed": true,
                "deletable": false,
                "editable": false,
                "nbgrader": {
                    "grade": true,
                    "grade_id": "Part 4.3",
                    "locked": true,
                    "points": "0.5",
                    "solution": false
                }
            },
            "outputs": [
                {
                    "ename": "",
                    "evalue": "",
                    "output_type": "error",
                    "traceback": [
                        "\u001b[1;31mRunning cells with 'c:\\Users\\SAQIB ANSARI\\AppData\\Local\\Programs\\Python\\Python311\\python.exe' requires the ipykernel package.\n",
                        "\u001b[1;31mRun the following command to install 'ipykernel' into the Python environment. \n",
                        "\u001b[1;31mCommand: '\"c:/Users/SAQIB ANSARI/AppData/Local/Programs/Python/Python311/python.exe\" -m pip install ipykernel -U --user --force-reinstall'"
                    ]
                }
            ],
            "source": [
                "###\n",
                "### AUTOGRADER TEST - DO NOT REMOVE\n",
                "###\n"
            ]
        },
        {
            "cell_type": "code",
            "execution_count": null,
            "metadata": {
                "collapsed": true,
                "deletable": false,
                "editable": false,
                "nbgrader": {
                    "grade": true,
                    "grade_id": "Part 4.4",
                    "locked": true,
                    "points": "0.5",
                    "solution": false
                }
            },
            "outputs": [
                {
                    "ename": "",
                    "evalue": "",
                    "output_type": "error",
                    "traceback": [
                        "\u001b[1;31mRunning cells with 'c:\\Users\\SAQIB ANSARI\\AppData\\Local\\Programs\\Python\\Python311\\python.exe' requires the ipykernel package.\n",
                        "\u001b[1;31mRun the following command to install 'ipykernel' into the Python environment. \n",
                        "\u001b[1;31mCommand: '\"c:/Users/SAQIB ANSARI/AppData/Local/Programs/Python/Python311/python.exe\" -m pip install ipykernel -U --user --force-reinstall'"
                    ]
                }
            ],
            "source": [
                "###\n",
                "### AUTOGRADER TEST - DO NOT REMOVE\n",
                "###\n"
            ]
        },
        {
            "cell_type": "code",
            "execution_count": null,
            "metadata": {
                "collapsed": true,
                "deletable": false,
                "editable": false,
                "nbgrader": {
                    "grade": true,
                    "grade_id": "Part 4.5",
                    "locked": true,
                    "points": "4",
                    "solution": false
                }
            },
            "outputs": [
                {
                    "ename": "",
                    "evalue": "",
                    "output_type": "error",
                    "traceback": [
                        "\u001b[1;31mRunning cells with 'c:\\Users\\SAQIB ANSARI\\AppData\\Local\\Programs\\Python\\Python311\\python.exe' requires the ipykernel package.\n",
                        "\u001b[1;31mRun the following command to install 'ipykernel' into the Python environment. \n",
                        "\u001b[1;31mCommand: '\"c:/Users/SAQIB ANSARI/AppData/Local/Programs/Python/Python311/python.exe\" -m pip install ipykernel -U --user --force-reinstall'"
                    ]
                }
            ],
            "source": [
                "###\n",
                "### AUTOGRADER TEST - DO NOT REMOVE\n",
                "###\n"
            ]
        },
        {
            "cell_type": "markdown",
            "metadata": {},
            "source": [
                "## Programming Part 5: Artificial Neural Network\n",
                "\n",
                "Write a programme that can classify two different type of data points with high accuracy.\n",
                "\n",
                "\n",
                "### Assessment task:\n",
                "\n",
                "Write code to develop artificial neural network using the moons dataset. There are 20 steps involved, you will complete the code for steps 2, 3, 4, 5, 9, 10, 11, 12, 13 and 16 only.\n",
                "\n",
                "### Marks:\n",
                "\n",
                "This part is of 6 Marks. \n",
                "\n",
                "### Instructions:\n",
                "\n",
                "1. Write your Python code in place of \"your code here\" placeholder below.\n",
                "2. Run your code by clicking on 'run' cell in the toolbar before you submit.\n",
                "3. You will get the feedback once you submit the assignment.\n",
                "\n",
                "### Submission:\n",
                "\n",
                "Click on the submit button on the top right after you run the code."
            ]
        },
        {
            "cell_type": "markdown",
            "metadata": {},
            "source": [
                "#### Step 1\n",
                "Import the libraries"
            ]
        },
        {
            "cell_type": "code",
            "execution_count": null,
            "metadata": {
                "collapsed": true
            },
            "outputs": [
                {
                    "ename": "",
                    "evalue": "",
                    "output_type": "error",
                    "traceback": [
                        "\u001b[1;31mRunning cells with 'c:\\Users\\SAQIB ANSARI\\AppData\\Local\\Programs\\Python\\Python311\\python.exe' requires the ipykernel package.\n",
                        "\u001b[1;31mRun the following command to install 'ipykernel' into the Python environment. \n",
                        "\u001b[1;31mCommand: '\"c:/Users/SAQIB ANSARI/AppData/Local/Programs/Python/Python311/python.exe\" -m pip install ipykernel -U --user --force-reinstall'"
                    ]
                }
            ],
            "source": [
                "import numpy as np\n",
                "import matplotlib.pyplot as plt\n",
                "from csv import reader"
            ]
        },
        {
            "cell_type": "markdown",
            "metadata": {},
            "source": [
                "#### Step 2\n",
                "Load a CSV file"
            ]
        },
        {
            "cell_type": "code",
            "execution_count": null,
            "metadata": {
                "collapsed": true
            },
            "outputs": [
                {
                    "ename": "",
                    "evalue": "",
                    "output_type": "error",
                    "traceback": [
                        "\u001b[1;31mRunning cells with 'c:\\Users\\SAQIB ANSARI\\AppData\\Local\\Programs\\Python\\Python311\\python.exe' requires the ipykernel package.\n",
                        "\u001b[1;31mRun the following command to install 'ipykernel' into the Python environment. \n",
                        "\u001b[1;31mCommand: '\"c:/Users/SAQIB ANSARI/AppData/Local/Programs/Python/Python311/python.exe\" -m pip install ipykernel -U --user --force-reinstall'"
                    ]
                }
            ],
            "source": [
                "def load_csv(filename):\n",
                "###\n",
                "### YOUR CODE HERE\n",
                "###\n",
                "    return dataset"
            ]
        },
        {
            "cell_type": "markdown",
            "metadata": {},
            "source": [
                "#### Step 3\n",
                "extract only x data"
            ]
        },
        {
            "cell_type": "code",
            "execution_count": null,
            "metadata": {
                "collapsed": true
            },
            "outputs": [
                {
                    "ename": "",
                    "evalue": "",
                    "output_type": "error",
                    "traceback": [
                        "\u001b[1;31mRunning cells with 'c:\\Users\\SAQIB ANSARI\\AppData\\Local\\Programs\\Python\\Python311\\python.exe' requires the ipykernel package.\n",
                        "\u001b[1;31mRun the following command to install 'ipykernel' into the Python environment. \n",
                        "\u001b[1;31mCommand: '\"c:/Users/SAQIB ANSARI/AppData/Local/Programs/Python/Python311/python.exe\" -m pip install ipykernel -U --user --force-reinstall'"
                    ]
                }
            ],
            "source": [
                "def extract_only_x_data(dataset):\n",
                "###\n",
                "### YOUR CODE HERE\n",
                "###\n",
                "    return data"
            ]
        },
        {
            "cell_type": "markdown",
            "metadata": {},
            "source": [
                "#### Step 4\n",
                "extract only y data"
            ]
        },
        {
            "cell_type": "code",
            "execution_count": null,
            "metadata": {
                "collapsed": true
            },
            "outputs": [
                {
                    "ename": "",
                    "evalue": "",
                    "output_type": "error",
                    "traceback": [
                        "\u001b[1;31mRunning cells with 'c:\\Users\\SAQIB ANSARI\\AppData\\Local\\Programs\\Python\\Python311\\python.exe' requires the ipykernel package.\n",
                        "\u001b[1;31mRun the following command to install 'ipykernel' into the Python environment. \n",
                        "\u001b[1;31mCommand: '\"c:/Users/SAQIB ANSARI/AppData/Local/Programs/Python/Python311/python.exe\" -m pip install ipykernel -U --user --force-reinstall'"
                    ]
                }
            ],
            "source": [
                "def extract_only_y_data(dataset):\n",
                "###\n",
                "### YOUR CODE HERE\n",
                "###\n",
                "    return data"
            ]
        },
        {
            "cell_type": "markdown",
            "metadata": {},
            "source": [
                "#### Step 5\n",
                "Defining the Config that contains the inputs for the network, the outputs for the network as well as the parameters for gradient descent "
            ]
        },
        {
            "cell_type": "code",
            "execution_count": null,
            "metadata": {
                "collapsed": true
            },
            "outputs": [
                {
                    "ename": "",
                    "evalue": "",
                    "output_type": "error",
                    "traceback": [
                        "\u001b[1;31mRunning cells with 'c:\\Users\\SAQIB ANSARI\\AppData\\Local\\Programs\\Python\\Python311\\python.exe' requires the ipykernel package.\n",
                        "\u001b[1;31mRun the following command to install 'ipykernel' into the Python environment. \n",
                        "\u001b[1;31mCommand: '\"c:/Users/SAQIB ANSARI/AppData/Local/Programs/Python/Python311/python.exe\" -m pip install ipykernel -U --user --force-reinstall'"
                    ]
                }
            ],
            "source": [
                "class Config:\n",
                "    #Specify input layer dimensionality,  output layer dimensionality, learning rate for gradient descent, regularization strength\n",
                "\n",
                "###\n",
                "### YOUR CODE HERE\n",
                "###\n"
            ]
        },
        {
            "cell_type": "markdown",
            "metadata": {},
            "source": [
                "#### Step 6\n",
                "Load the moons.csv data, extract the data and convert it into num py arrays"
            ]
        },
        {
            "cell_type": "code",
            "execution_count": null,
            "metadata": {
                "collapsed": true
            },
            "outputs": [
                {
                    "ename": "",
                    "evalue": "",
                    "output_type": "error",
                    "traceback": [
                        "\u001b[1;31mRunning cells with 'c:\\Users\\SAQIB ANSARI\\AppData\\Local\\Programs\\Python\\Python311\\python.exe' requires the ipykernel package.\n",
                        "\u001b[1;31mRun the following command to install 'ipykernel' into the Python environment. \n",
                        "\u001b[1;31mCommand: '\"c:/Users/SAQIB ANSARI/AppData/Local/Programs/Python/Python311/python.exe\" -m pip install ipykernel -U --user --force-reinstall'"
                    ]
                }
            ],
            "source": [
                "def generate_data():\n",
                "    filename = 'moons.csv'\n",
                "\n",
                "    dataset = load_csv(filename)                            # load the data from a csv file\n",
                "\n",
                "    x_data = extract_only_x_data(dataset)                   # extract the input data (2 inputs)\n",
                "    y_data = extract_only_y_data(dataset)                   # extract the output data (1 output)\n",
                "    \n",
                "    X = np.array(x_data)                                    # convert the data into np array\n",
                "    y = np.array(y_data)                                    # convert the data into np array\n",
                "\n",
                "    return X, y                                             # returns both input (X) data and output (y) data"
            ]
        },
        {
            "cell_type": "markdown",
            "metadata": {},
            "source": [
                "#### Step 7\n",
                "Assign the X and y with the generated data"
            ]
        },
        {
            "cell_type": "code",
            "execution_count": null,
            "metadata": {
                "collapsed": true
            },
            "outputs": [
                {
                    "ename": "",
                    "evalue": "",
                    "output_type": "error",
                    "traceback": [
                        "\u001b[1;31mRunning cells with 'c:\\Users\\SAQIB ANSARI\\AppData\\Local\\Programs\\Python\\Python311\\python.exe' requires the ipykernel package.\n",
                        "\u001b[1;31mRun the following command to install 'ipykernel' into the Python environment. \n",
                        "\u001b[1;31mCommand: '\"c:/Users/SAQIB ANSARI/AppData/Local/Programs/Python/Python311/python.exe\" -m pip install ipykernel -U --user --force-reinstall'"
                    ]
                }
            ],
            "source": [
                "X, y = generate_data()"
            ]
        },
        {
            "cell_type": "markdown",
            "metadata": {},
            "source": [
                "#### Step 8\n",
                "Draw the scatter plot"
            ]
        },
        {
            "cell_type": "code",
            "execution_count": null,
            "metadata": {
                "collapsed": true
            },
            "outputs": [
                {
                    "ename": "",
                    "evalue": "",
                    "output_type": "error",
                    "traceback": [
                        "\u001b[1;31mRunning cells with 'c:\\Users\\SAQIB ANSARI\\AppData\\Local\\Programs\\Python\\Python311\\python.exe' requires the ipykernel package.\n",
                        "\u001b[1;31mRun the following command to install 'ipykernel' into the Python environment. \n",
                        "\u001b[1;31mCommand: '\"c:/Users/SAQIB ANSARI/AppData/Local/Programs/Python/Python311/python.exe\" -m pip install ipykernel -U --user --force-reinstall'"
                    ]
                }
            ],
            "source": [
                "plt.figure(figsize=(10,7))                              # Defines the size of the plot\n",
                "plt.scatter(X[:,0], X[:,1], c=y, cmap=plt.cm.Spectral)  # Draws a scatter plot"
            ]
        },
        {
            "cell_type": "markdown",
            "metadata": {},
            "source": [
                "#### Step 9\n",
                "Define a activation function of your choice."
            ]
        },
        {
            "cell_type": "code",
            "execution_count": null,
            "metadata": {
                "collapsed": true
            },
            "outputs": [
                {
                    "ename": "",
                    "evalue": "",
                    "output_type": "error",
                    "traceback": [
                        "\u001b[1;31mRunning cells with 'c:\\Users\\SAQIB ANSARI\\AppData\\Local\\Programs\\Python\\Python311\\python.exe' requires the ipykernel package.\n",
                        "\u001b[1;31mRun the following command to install 'ipykernel' into the Python environment. \n",
                        "\u001b[1;31mCommand: '\"c:/Users/SAQIB ANSARI/AppData/Local/Programs/Python/Python311/python.exe\" -m pip install ipykernel -U --user --force-reinstall'"
                    ]
                }
            ],
            "source": [
                "def activation_function(x):\n",
                "###\n",
                "### YOUR CODE HERE\n",
                "###\n",
                "    # Return the value of the implemented activation function, do not simply return x\n",
                "    return x"
            ]
        },
        {
            "cell_type": "markdown",
            "metadata": {},
            "source": [
                "#### Step 10\n",
                "Define a lost function"
            ]
        },
        {
            "cell_type": "code",
            "execution_count": null,
            "metadata": {
                "collapsed": true
            },
            "outputs": [
                {
                    "ename": "",
                    "evalue": "",
                    "output_type": "error",
                    "traceback": [
                        "\u001b[1;31mRunning cells with 'c:\\Users\\SAQIB ANSARI\\AppData\\Local\\Programs\\Python\\Python311\\python.exe' requires the ipykernel package.\n",
                        "\u001b[1;31mRun the following command to install 'ipykernel' into the Python environment. \n",
                        "\u001b[1;31mCommand: '\"c:/Users/SAQIB ANSARI/AppData/Local/Programs/Python/Python311/python.exe\" -m pip install ipykernel -U --user --force-reinstall'"
                    ]
                }
            ],
            "source": [
                "def loss(a):\n",
                "###\n",
                "### YOUR CODE HERE\n",
                "###\n",
                "    # Return the value of the implemented loss function, do not simply return a\n",
                "    return a"
            ]
        },
        {
            "cell_type": "markdown",
            "metadata": {},
            "source": [
                "#### Step 11\n",
                "Define a weight regularization function"
            ]
        },
        {
            "cell_type": "code",
            "execution_count": null,
            "metadata": {
                "collapsed": true
            },
            "outputs": [
                {
                    "ename": "",
                    "evalue": "",
                    "output_type": "error",
                    "traceback": [
                        "\u001b[1;31mRunning cells with 'c:\\Users\\SAQIB ANSARI\\AppData\\Local\\Programs\\Python\\Python311\\python.exe' requires the ipykernel package.\n",
                        "\u001b[1;31mRun the following command to install 'ipykernel' into the Python environment. \n",
                        "\u001b[1;31mCommand: '\"c:/Users/SAQIB ANSARI/AppData/Local/Programs/Python/Python311/python.exe\" -m pip install ipykernel -U --user --force-reinstall'"
                    ]
                }
            ],
            "source": [
                "def weight_regularization(Wx, dWx):\n",
                "###\n",
                "### YOUR CODE HERE\n",
                "###\n",
                "    # Return the value of the implemented weight regularization function, do not simply return dWx\n",
                "    return dWx"
            ]
        },
        {
            "cell_type": "markdown",
            "metadata": {},
            "source": [
                "#### Step 12\n",
                "Define forward propagation function"
            ]
        },
        {
            "cell_type": "code",
            "execution_count": null,
            "metadata": {
                "collapsed": true
            },
            "outputs": [
                {
                    "ename": "",
                    "evalue": "",
                    "output_type": "error",
                    "traceback": [
                        "\u001b[1;31mRunning cells with 'c:\\Users\\SAQIB ANSARI\\AppData\\Local\\Programs\\Python\\Python311\\python.exe' requires the ipykernel package.\n",
                        "\u001b[1;31mRun the following command to install 'ipykernel' into the Python environment. \n",
                        "\u001b[1;31mCommand: '\"c:/Users/SAQIB ANSARI/AppData/Local/Programs/Python/Python311/python.exe\" -m pip install ipykernel -U --user --force-reinstall'"
                    ]
                }
            ],
            "source": [
                "def forward_propagation(X, W1, b1, W2, b2):\n",
                "\n",
                "###\n",
                "### YOUR CODE HERE\n",
                "###\n",
                "    \n",
                "    return np.exp(z2)"
            ]
        },
        {
            "cell_type": "markdown",
            "metadata": {},
            "source": [
                "#### Step 13\n",
                "Define backward propagation function"
            ]
        },
        {
            "cell_type": "code",
            "execution_count": null,
            "metadata": {
                "collapsed": true
            },
            "outputs": [
                {
                    "ename": "",
                    "evalue": "",
                    "output_type": "error",
                    "traceback": [
                        "\u001b[1;31mRunning cells with 'c:\\Users\\SAQIB ANSARI\\AppData\\Local\\Programs\\Python\\Python311\\python.exe' requires the ipykernel package.\n",
                        "\u001b[1;31mRun the following command to install 'ipykernel' into the Python environment. \n",
                        "\u001b[1;31mCommand: '\"c:/Users/SAQIB ANSARI/AppData/Local/Programs/Python/Python311/python.exe\" -m pip install ipykernel -U --user --force-reinstall'"
                    ]
                }
            ],
            "source": [
                "def backward_propagation(X, y, W1, b1, W2, b2, exp_scores, number_of_examples):\n",
                "    probs = exp_scores / np.sum(exp_scores, axis=1, keepdims=True)\n",
                "        \n",
                "    delta3 = probs\n",
                "    delta3[range(number_of_examples), y] -= 1\n",
                "\n",
                "    z2 = np.dot(X, W1) + b1\n",
                "    a1 = np.tanh(z2)\n",
                "\n",
                "    dW2 = (a1.T).dot(delta3)\n",
                "    db2 = np.sum(delta3, axis=0, keepdims=True)\n",
                "\n",
                "    delta2 = delta3.dot(W2.T) * (1 - np.power(a1, 2))\n",
                "    \n",
                "    dW1 = np.dot(X.T, delta2)\n",
                "    \n",
                "    # Add regularization terms (b1 and b2 don't have regularization terms)\n",
                "    db1 = np.sum(delta2, axis=0)\n",
                "###\n",
                "### YOUR CODE HERE\n",
                "###\n",
                "    return dW1, dW2, db1, db2"
            ]
        },
        {
            "cell_type": "markdown",
            "metadata": {},
            "source": [
                "#### Step 14\n",
                "Define the loss function, used to evaluate how well the model is doing"
            ]
        },
        {
            "cell_type": "code",
            "execution_count": null,
            "metadata": {
                "collapsed": true
            },
            "outputs": [
                {
                    "ename": "",
                    "evalue": "",
                    "output_type": "error",
                    "traceback": [
                        "\u001b[1;31mRunning cells with 'c:\\Users\\SAQIB ANSARI\\AppData\\Local\\Programs\\Python\\Python311\\python.exe' requires the ipykernel package.\n",
                        "\u001b[1;31mRun the following command to install 'ipykernel' into the Python environment. \n",
                        "\u001b[1;31mCommand: '\"c:/Users/SAQIB ANSARI/AppData/Local/Programs/Python/Python311/python.exe\" -m pip install ipykernel -U --user --force-reinstall'"
                    ]
                }
            ],
            "source": [
                "def calculate_loss(model, X, y):\n",
                "   \n",
                "    number_of_examples = len(X)\n",
                "    \n",
                "    W1 = model['W1']\n",
                "    b1 = model['b1']\n",
                "    W2 = model['W2']\n",
                "    b2 = model['b2']\n",
                "    \n",
                "    exp_scores = forward_propagation(X, W1, b1, W2, b2)\n",
                "    \n",
                "    probs = exp_scores / np.sum(exp_scores, axis=1, keepdims=True)\n",
                "    \n",
                "    # Calculating the loss\n",
                "    \n",
                "    correct_probs = loss(probs[range(number_of_examples), y])\n",
                "    \n",
                "    data_loss = np.sum(correct_probs)\n",
                "    \n",
                "    data_loss = data_loss + Config.regularization_strength / 2 * (np.sum(np.square(W1)) + np.sum(np.square(W2)))\n",
                "    \n",
                "    return 1. / number_of_examples * data_loss"
            ]
        },
        {
            "cell_type": "markdown",
            "metadata": {},
            "source": [
                "#### Step 15\n",
                "Make a prediction"
            ]
        },
        {
            "cell_type": "code",
            "execution_count": null,
            "metadata": {
                "collapsed": true
            },
            "outputs": [
                {
                    "ename": "",
                    "evalue": "",
                    "output_type": "error",
                    "traceback": [
                        "\u001b[1;31mRunning cells with 'c:\\Users\\SAQIB ANSARI\\AppData\\Local\\Programs\\Python\\Python311\\python.exe' requires the ipykernel package.\n",
                        "\u001b[1;31mRun the following command to install 'ipykernel' into the Python environment. \n",
                        "\u001b[1;31mCommand: '\"c:/Users/SAQIB ANSARI/AppData/Local/Programs/Python/Python311/python.exe\" -m pip install ipykernel -U --user --force-reinstall'"
                    ]
                }
            ],
            "source": [
                "def predict(model, X):\n",
                "    W1 = model['W1']\n",
                "    b1 = model['b1']\n",
                "    W2 = model['W2']\n",
                "    b2 = model['b2']\n",
                "    \n",
                "    exp_scores = forward_propagation(X, W1, b1, W2, b2)\n",
                "    \n",
                "    probs = exp_scores / np.sum(exp_scores, axis=1, keepdims=True)\n",
                "    \n",
                "    return np.argmax(probs, axis=1)"
            ]
        },
        {
            "cell_type": "markdown",
            "metadata": {},
            "source": [
                "#### Step 16\n",
                "Build the neural network using batch gradient descent using the backpropagation derivates"
            ]
        },
        {
            "cell_type": "code",
            "execution_count": null,
            "metadata": {
                "collapsed": true
            },
            "outputs": [
                {
                    "ename": "",
                    "evalue": "",
                    "output_type": "error",
                    "traceback": [
                        "\u001b[1;31mRunning cells with 'c:\\Users\\SAQIB ANSARI\\AppData\\Local\\Programs\\Python\\Python311\\python.exe' requires the ipykernel package.\n",
                        "\u001b[1;31mRun the following command to install 'ipykernel' into the Python environment. \n",
                        "\u001b[1;31mCommand: '\"c:/Users/SAQIB ANSARI/AppData/Local/Programs/Python/Python311/python.exe\" -m pip install ipykernel -U --user --force-reinstall'"
                    ]
                }
            ],
            "source": [
                "def build_model(X, y, number_of_nodes_within_hidden_layer, passes=20000, print_loss=False):\n",
                "\n",
                "    # Initialize the parameters to random values. We need to learn these\n",
                "    \n",
                "    \n",
                "    number_of_examples = len(X)\n",
                "    np.random.seed(0)\n",
                "    \n",
                "    # Two weights are needed as the network has two inputs\n",
                "    # Likewise, two biases are needed as the network has two inputs\n",
                "\n",
                "###\n",
                "### YOUR CODE HERE\n",
                "###\n",
                "    \n",
                "    model = {}\n",
                "    \n",
                "    for i in range(0, passes):\n",
                "        # Forward Propgation\n",
                "        exp_scores = forward_propagation(X, W1, b1, W2, b2)\n",
                "        \n",
                "        # Back Propgation\n",
                "        dW1, dW2, db1, db2 = backward_propagation(X, y, W1, b1, W2, b2, exp_scores, number_of_examples);\n",
                "        \n",
                "        # Gradient descent parameter update\n",
                "\n",
                "        ###\n",
                "        ### YOUR CODE HERE\n",
                "        ###\n",
                "        \n",
                "        # Assign new parameters to the model\n",
                "        \n",
                "        model = {'W1': W1, 'b1': b1, 'W2': W2, 'b2': b2}\n",
                "        \n",
                "        # This is expensive because it uses the whole dataset, so we don't want to do it too often.\n",
                "        result = calculate_loss(model, X, y)\n",
                "        \n",
                "        if print_loss and i % 1000 == 0:\n",
                "            print(\"Loss after iteration %i: %f\" % (i, result))\n",
                "            \n",
                "            if result > 2.0:\n",
                "                print(\"Loss is too high\")\n",
                "                break\n",
                "            \n",
                "    return model\n"
            ]
        },
        {
            "cell_type": "markdown",
            "metadata": {},
            "source": [
                "#### Step 17\n",
                "Train the model\n",
                "\n",
                "Note: 10,000 passes is used in the auto graders"
            ]
        },
        {
            "cell_type": "code",
            "execution_count": null,
            "metadata": {
                "collapsed": true
            },
            "outputs": [
                {
                    "ename": "",
                    "evalue": "",
                    "output_type": "error",
                    "traceback": [
                        "\u001b[1;31mRunning cells with 'c:\\Users\\SAQIB ANSARI\\AppData\\Local\\Programs\\Python\\Python311\\python.exe' requires the ipykernel package.\n",
                        "\u001b[1;31mRun the following command to install 'ipykernel' into the Python environment. \n",
                        "\u001b[1;31mCommand: '\"c:/Users/SAQIB ANSARI/AppData/Local/Programs/Python/Python311/python.exe\" -m pip install ipykernel -U --user --force-reinstall'"
                    ]
                }
            ],
            "source": [
                "model = build_model(X, y, 3, print_loss=True, passes=10000)"
            ]
        },
        {
            "cell_type": "markdown",
            "metadata": {},
            "source": [
                "#### Step 18\n",
                "Plot Decision Boundary"
            ]
        },
        {
            "cell_type": "code",
            "execution_count": null,
            "metadata": {
                "collapsed": true
            },
            "outputs": [
                {
                    "ename": "",
                    "evalue": "",
                    "output_type": "error",
                    "traceback": [
                        "\u001b[1;31mRunning cells with 'c:\\Users\\SAQIB ANSARI\\AppData\\Local\\Programs\\Python\\Python311\\python.exe' requires the ipykernel package.\n",
                        "\u001b[1;31mRun the following command to install 'ipykernel' into the Python environment. \n",
                        "\u001b[1;31mCommand: '\"c:/Users/SAQIB ANSARI/AppData/Local/Programs/Python/Python311/python.exe\" -m pip install ipykernel -U --user --force-reinstall'"
                    ]
                }
            ],
            "source": [
                "def plot_decision_boundary(pred_func, X, y):\n",
                "    # Set min and max values and give it some padding\n",
                "    x_min, x_max = X[:, 0].min() - .5, X[:, 0].max() + .5\n",
                "    y_min, y_max = X[:, 1].min() - .5, X[:, 1].max() + .5\n",
                "    h = 0.01\n",
                "    \n",
                "    # Generate a grid of points with distance h between them\n",
                "    xx, yy = np.meshgrid(np.arange(x_min, x_max, h), np.arange(y_min, y_max, h))\n",
                "    \n",
                "    # Predict the function value for the whole gid\n",
                "    Z = pred_func(np.c_[xx.ravel(), yy.ravel()])\n",
                "    Z = Z.reshape(xx.shape)\n",
                "    \n",
                "    # Plot the contour and training examples\n",
                "    plt.title(\"Artificial Neural Network\")\n",
                "    plt.contourf(xx, yy, Z, cmap=plt.cm.Spectral)\n",
                "    plt.scatter(X[:, 0], X[:, 1], c=y, cmap=plt.cm.Spectral)\n",
                "    plt.show()"
            ]
        },
        {
            "cell_type": "markdown",
            "metadata": {},
            "source": [
                "#### Step 19\n",
                "Visualize"
            ]
        },
        {
            "cell_type": "code",
            "execution_count": null,
            "metadata": {
                "collapsed": true
            },
            "outputs": [
                {
                    "ename": "",
                    "evalue": "",
                    "output_type": "error",
                    "traceback": [
                        "\u001b[1;31mRunning cells with 'c:\\Users\\SAQIB ANSARI\\AppData\\Local\\Programs\\Python\\Python311\\python.exe' requires the ipykernel package.\n",
                        "\u001b[1;31mRun the following command to install 'ipykernel' into the Python environment. \n",
                        "\u001b[1;31mCommand: '\"c:/Users/SAQIB ANSARI/AppData/Local/Programs/Python/Python311/python.exe\" -m pip install ipykernel -U --user --force-reinstall'"
                    ]
                }
            ],
            "source": [
                "def visualize(X, y, model):\n",
                "    plot_decision_boundary(lambda x:predict(model, x), X, y)"
            ]
        },
        {
            "cell_type": "markdown",
            "metadata": {},
            "source": [
                "#### Step 20\n",
                "Call the visualize function"
            ]
        },
        {
            "cell_type": "code",
            "execution_count": null,
            "metadata": {
                "collapsed": true
            },
            "outputs": [
                {
                    "ename": "",
                    "evalue": "",
                    "output_type": "error",
                    "traceback": [
                        "\u001b[1;31mRunning cells with 'c:\\Users\\SAQIB ANSARI\\AppData\\Local\\Programs\\Python\\Python311\\python.exe' requires the ipykernel package.\n",
                        "\u001b[1;31mRun the following command to install 'ipykernel' into the Python environment. \n",
                        "\u001b[1;31mCommand: '\"c:/Users/SAQIB ANSARI/AppData/Local/Programs/Python/Python311/python.exe\" -m pip install ipykernel -U --user --force-reinstall'"
                    ]
                }
            ],
            "source": [
                "try:\n",
                "    visualize(X, y, model)\n",
                "except:\n",
                "    print(\"Can not visualize the graph, the data or the model is inconsistent\")"
            ]
        },
        {
            "cell_type": "code",
            "execution_count": null,
            "metadata": {
                "collapsed": true,
                "deletable": false,
                "editable": false,
                "nbgrader": {
                    "grade": true,
                    "grade_id": "Part 5.1",
                    "locked": true,
                    "points": "1",
                    "solution": false
                }
            },
            "outputs": [
                {
                    "ename": "",
                    "evalue": "",
                    "output_type": "error",
                    "traceback": [
                        "\u001b[1;31mRunning cells with 'c:\\Users\\SAQIB ANSARI\\AppData\\Local\\Programs\\Python\\Python311\\python.exe' requires the ipykernel package.\n",
                        "\u001b[1;31mRun the following command to install 'ipykernel' into the Python environment. \n",
                        "\u001b[1;31mCommand: '\"c:/Users/SAQIB ANSARI/AppData/Local/Programs/Python/Python311/python.exe\" -m pip install ipykernel -U --user --force-reinstall'"
                    ]
                }
            ],
            "source": [
                "###\n",
                "### AUTOGRADER TEST - DO NOT REMOVE\n",
                "###\n"
            ]
        },
        {
            "cell_type": "code",
            "execution_count": null,
            "metadata": {
                "collapsed": true,
                "deletable": false,
                "editable": false,
                "nbgrader": {
                    "grade": true,
                    "grade_id": "Part 5.2",
                    "locked": true,
                    "points": "2",
                    "solution": false
                }
            },
            "outputs": [
                {
                    "ename": "",
                    "evalue": "",
                    "output_type": "error",
                    "traceback": [
                        "\u001b[1;31mRunning cells with 'c:\\Users\\SAQIB ANSARI\\AppData\\Local\\Programs\\Python\\Python311\\python.exe' requires the ipykernel package.\n",
                        "\u001b[1;31mRun the following command to install 'ipykernel' into the Python environment. \n",
                        "\u001b[1;31mCommand: '\"c:/Users/SAQIB ANSARI/AppData/Local/Programs/Python/Python311/python.exe\" -m pip install ipykernel -U --user --force-reinstall'"
                    ]
                }
            ],
            "source": [
                "###\n",
                "### AUTOGRADER TEST - DO NOT REMOVE\n",
                "###\n"
            ]
        },
        {
            "cell_type": "code",
            "execution_count": null,
            "metadata": {
                "collapsed": true,
                "deletable": false,
                "editable": false,
                "nbgrader": {
                    "grade": true,
                    "grade_id": "Part 5.3",
                    "locked": true,
                    "points": "3",
                    "solution": false
                }
            },
            "outputs": [
                {
                    "ename": "",
                    "evalue": "",
                    "output_type": "error",
                    "traceback": [
                        "\u001b[1;31mRunning cells with 'c:\\Users\\SAQIB ANSARI\\AppData\\Local\\Programs\\Python\\Python311\\python.exe' requires the ipykernel package.\n",
                        "\u001b[1;31mRun the following command to install 'ipykernel' into the Python environment. \n",
                        "\u001b[1;31mCommand: '\"c:/Users/SAQIB ANSARI/AppData/Local/Programs/Python/Python311/python.exe\" -m pip install ipykernel -U --user --force-reinstall'"
                    ]
                }
            ],
            "source": [
                "###\n",
                "### AUTOGRADER TEST - DO NOT REMOVE\n",
                "###\n"
            ]
        },
        {
            "cell_type": "code",
            "execution_count": null,
            "metadata": {
                "collapsed": true
            },
            "outputs": [
                {
                    "ename": "",
                    "evalue": "",
                    "output_type": "error",
                    "traceback": [
                        "\u001b[1;31mRunning cells with 'c:\\Users\\SAQIB ANSARI\\AppData\\Local\\Programs\\Python\\Python311\\python.exe' requires the ipykernel package.\n",
                        "\u001b[1;31mRun the following command to install 'ipykernel' into the Python environment. \n",
                        "\u001b[1;31mCommand: '\"c:/Users/SAQIB ANSARI/AppData/Local/Programs/Python/Python311/python.exe\" -m pip install ipykernel -U --user --force-reinstall'"
                    ]
                }
            ],
            "source": []
        }
    ],
    "metadata": {
        "kernelspec": {
            "display_name": "Python 3 [3.7]",
            "language": "python",
            "name": "python3"
        },
        "language_info": {
            "codemirror_mode": {
                "name": "ipython",
                "version": 3
            },
            "file_extension": ".py",
            "mimetype": "text/x-python",
            "name": "python",
            "nbconvert_exporter": "python",
            "pygments_lexer": "ipython3",
            "version": "3.11.5"
        }
    },
    "nbformat": 4,
    "nbformat_minor": 2
}
